{
 "cells": [
  {
   "cell_type": "code",
   "execution_count": 2,
   "metadata": {},
   "outputs": [
    {
     "data": {
      "text/html": [
       "<div>\n",
       "<style scoped>\n",
       "    .dataframe tbody tr th:only-of-type {\n",
       "        vertical-align: middle;\n",
       "    }\n",
       "\n",
       "    .dataframe tbody tr th {\n",
       "        vertical-align: top;\n",
       "    }\n",
       "\n",
       "    .dataframe thead th {\n",
       "        text-align: right;\n",
       "    }\n",
       "</style>\n",
       "<table border=\"1\" class=\"dataframe\">\n",
       "  <thead>\n",
       "    <tr style=\"text-align: right;\">\n",
       "      <th></th>\n",
       "      <th>SK_ID_CURR</th>\n",
       "      <th>CODE_GENDER</th>\n",
       "      <th>FLAG_OWN_CAR</th>\n",
       "      <th>FLAG_OWN_REALTY</th>\n",
       "      <th>CNT_CHILDREN</th>\n",
       "      <th>AMT_INCOME_TOTAL</th>\n",
       "      <th>AMT_CREDIT</th>\n",
       "      <th>AMT_ANNUITY</th>\n",
       "      <th>AMT_GOODS_PRICE</th>\n",
       "      <th>REGION_POPULATION_RELATIVE</th>\n",
       "      <th>...</th>\n",
       "      <th>INSTAL_AMT_PAYMENT_MIN</th>\n",
       "      <th>INSTAL_AMT_PAYMENT_MAX</th>\n",
       "      <th>INSTAL_AMT_PAYMENT_MEAN</th>\n",
       "      <th>INSTAL_AMT_PAYMENT_SUM</th>\n",
       "      <th>INSTAL_DAYS_ENTRY_PAYMENT_MAX</th>\n",
       "      <th>INSTAL_DAYS_ENTRY_PAYMENT_MEAN</th>\n",
       "      <th>INSTAL_DAYS_ENTRY_PAYMENT_SUM</th>\n",
       "      <th>INSTAL_COUNT</th>\n",
       "      <th>NAME_INCOME_TYPE_Maternity leave</th>\n",
       "      <th>NAME_FAMILY_STATUS_Unknown leave</th>\n",
       "    </tr>\n",
       "  </thead>\n",
       "  <tbody>\n",
       "    <tr>\n",
       "      <th>1</th>\n",
       "      <td>100042</td>\n",
       "      <td>0</td>\n",
       "      <td>1</td>\n",
       "      <td>0</td>\n",
       "      <td>0</td>\n",
       "      <td>270000.0</td>\n",
       "      <td>959688.0</td>\n",
       "      <td>34600.5</td>\n",
       "      <td>810000.0</td>\n",
       "      <td>0.025164</td>\n",
       "      <td>...</td>\n",
       "      <td>32.85</td>\n",
       "      <td>1082512.575</td>\n",
       "      <td>21856.803379</td>\n",
       "      <td>3977938.215</td>\n",
       "      <td>-17.0</td>\n",
       "      <td>-1546.208791</td>\n",
       "      <td>-281410.0</td>\n",
       "      <td>182.0</td>\n",
       "      <td>0</td>\n",
       "      <td>0</td>\n",
       "    </tr>\n",
       "  </tbody>\n",
       "</table>\n",
       "<p>1 rows × 543 columns</p>\n",
       "</div>"
      ],
      "text/plain": [
       "   SK_ID_CURR  CODE_GENDER  FLAG_OWN_CAR  FLAG_OWN_REALTY  CNT_CHILDREN  \\\n",
       "1      100042            0             1                0             0   \n",
       "\n",
       "   AMT_INCOME_TOTAL  AMT_CREDIT  AMT_ANNUITY  AMT_GOODS_PRICE  \\\n",
       "1          270000.0    959688.0      34600.5         810000.0   \n",
       "\n",
       "   REGION_POPULATION_RELATIVE  ...  INSTAL_AMT_PAYMENT_MIN  \\\n",
       "1                    0.025164  ...                   32.85   \n",
       "\n",
       "   INSTAL_AMT_PAYMENT_MAX  INSTAL_AMT_PAYMENT_MEAN  INSTAL_AMT_PAYMENT_SUM  \\\n",
       "1             1082512.575             21856.803379             3977938.215   \n",
       "\n",
       "   INSTAL_DAYS_ENTRY_PAYMENT_MAX  INSTAL_DAYS_ENTRY_PAYMENT_MEAN  \\\n",
       "1                          -17.0                    -1546.208791   \n",
       "\n",
       "   INSTAL_DAYS_ENTRY_PAYMENT_SUM  INSTAL_COUNT  \\\n",
       "1                      -281410.0         182.0   \n",
       "\n",
       "   NAME_INCOME_TYPE_Maternity leave  NAME_FAMILY_STATUS_Unknown leave  \n",
       "1                                 0                                 0  \n",
       "\n",
       "[1 rows x 543 columns]"
      ]
     },
     "execution_count": 2,
     "metadata": {},
     "output_type": "execute_result"
    }
   ],
   "source": [
    "import requests\n",
    "import os\n",
    "import pandas as pd\n",
    "\n",
    "# Data\n",
    "parent_dir = os.path.abspath('..')\n",
    "file_path = os.path.join(parent_dir, \"data\", \"sample.csv\")\n",
    "data = pd.read_csv(file_path)\n",
    "\n",
    "x = data[data['SK_ID_CURR'] == 100067]\n",
    "x"
   ]
  },
  {
   "cell_type": "code",
   "execution_count": 3,
   "metadata": {},
   "outputs": [
    {
     "data": {
      "text/plain": [
       "'{\"SK_ID_CURR\":{\"1\":100042},\"CODE_GENDER\":{\"1\":0},\"FLAG_OWN_CAR\":{\"1\":1},\"FLAG_OWN_REALTY\":{\"1\":0},\"CNT_CHILDREN\":{\"1\":0},\"AMT_INCOME_TOTAL\":{\"1\":270000.0},\"AMT_CREDIT\":{\"1\":959688.0},\"AMT_ANNUITY\":{\"1\":34600.5},\"AMT_GOODS_PRICE\":{\"1\":810000.0},\"REGION_POPULATION_RELATIVE\":{\"1\":0.025164},\"DAYS_BIRTH\":{\"1\":-18604},\"DAYS_EMPLOYED\":{\"1\":-12009.0},\"DAYS_REGISTRATION\":{\"1\":-6116.0},\"DAYS_ID_PUBLISH\":{\"1\":-2027},\"FLAG_MOBIL\":{\"1\":1},\"FLAG_EMP_PHONE\":{\"1\":1},\"FLAG_WORK_PHONE\":{\"1\":0},\"FLAG_CONT_MOBILE\":{\"1\":1},\"FLAG_PHONE\":{\"1\":1},\"FLAG_EMAIL\":{\"1\":0},\"CNT_FAM_MEMBERS\":{\"1\":2.0},\"REGION_RATING_CLIENT\":{\"1\":2},\"REGION_RATING_CLIENT_W_CITY\":{\"1\":2},\"HOUR_APPR_PROCESS_START\":{\"1\":15},\"REG_REGION_NOT_LIVE_REGION\":{\"1\":0},\"REG_REGION_NOT_WORK_REGION\":{\"1\":0},\"LIVE_REGION_NOT_WORK_REGION\":{\"1\":0},\"REG_CITY_NOT_LIVE_CITY\":{\"1\":0},\"REG_CITY_NOT_WORK_CITY\":{\"1\":0},\"LIVE_CITY_NOT_WORK_CITY\":{\"1\":0},\"EXT_SOURCE_2\":{\"1\":0.6289043247},\"EXT_SOURCE_3\":{\"1\":0.3927738606},\"OBS_30_CNT_SOCIAL_CIRCLE\":{\"1\":0.0},\"DEF_30_CNT_SOCIAL_CIRCLE\":{\"1\":0.0},\"OBS_60_CNT_SOCIAL_CIRCLE\":{\"1\":0.0},\"DEF_60_CNT_SOCIAL_CIRCLE\":{\"1\":0.0},\"DAYS_LAST_PHONE_CHANGE\":{\"1\":-1705.0},\"FLAG_DOCUMENT_2\":{\"1\":0},\"FLAG_DOCUMENT_3\":{\"1\":0},\"FLAG_DOCUMENT_4\":{\"1\":0},\"FLAG_DOCUMENT_5\":{\"1\":0},\"FLAG_DOCUMENT_6\":{\"1\":0},\"FLAG_DOCUMENT_7\":{\"1\":0},\"FLAG_DOCUMENT_8\":{\"1\":1},\"FLAG_DOCUMENT_9\":{\"1\":0},\"FLAG_DOCUMENT_10\":{\"1\":0},\"FLAG_DOCUMENT_11\":{\"1\":0},\"FLAG_DOCUMENT_12\":{\"1\":0},\"FLAG_DOCUMENT_13\":{\"1\":0},\"FLAG_DOCUMENT_14\":{\"1\":0},\"FLAG_DOCUMENT_15\":{\"1\":0},\"FLAG_DOCUMENT_16\":{\"1\":0},\"FLAG_DOCUMENT_17\":{\"1\":0},\"FLAG_DOCUMENT_18\":{\"1\":0},\"FLAG_DOCUMENT_19\":{\"1\":0},\"FLAG_DOCUMENT_20\":{\"1\":0},\"FLAG_DOCUMENT_21\":{\"1\":0},\"AMT_REQ_CREDIT_BUREAU_HOUR\":{\"1\":0.0},\"AMT_REQ_CREDIT_BUREAU_DAY\":{\"1\":0.0},\"AMT_REQ_CREDIT_BUREAU_WEEK\":{\"1\":0.0},\"AMT_REQ_CREDIT_BUREAU_MON\":{\"1\":0.0},\"AMT_REQ_CREDIT_BUREAU_QRT\":{\"1\":1.0},\"AMT_REQ_CREDIT_BUREAU_YEAR\":{\"1\":2.0},\"NAME_CONTRACT_TYPE_Cash loans\":{\"1\":1},\"NAME_CONTRACT_TYPE_Revolving loans\":{\"1\":0},\"NAME_TYPE_SUITE_Children\":{\"1\":0},\"NAME_TYPE_SUITE_Family\":{\"1\":0},\"NAME_TYPE_SUITE_Group of people\":{\"1\":0},\"NAME_TYPE_SUITE_Other_A\":{\"1\":0},\"NAME_TYPE_SUITE_Other_B\":{\"1\":0},\"NAME_TYPE_SUITE_Spouse, partner\":{\"1\":0},\"NAME_TYPE_SUITE_Unaccompanied\":{\"1\":1},\"NAME_INCOME_TYPE_Businessman\":{\"1\":0},\"NAME_INCOME_TYPE_Commercial associate\":{\"1\":0},\"NAME_INCOME_TYPE_Pensioner\":{\"1\":0},\"NAME_INCOME_TYPE_State servant\":{\"1\":1},\"NAME_INCOME_TYPE_Student\":{\"1\":0},\"NAME_INCOME_TYPE_Unemployed\":{\"1\":0},\"NAME_INCOME_TYPE_Working\":{\"1\":0},\"NAME_EDUCATION_TYPE_Academic degree\":{\"1\":0},\"NAME_EDUCATION_TYPE_Higher education\":{\"1\":0},\"NAME_EDUCATION_TYPE_Incomplete higher\":{\"1\":0},\"NAME_EDUCATION_TYPE_Lower secondary\":{\"1\":0},\"NAME_EDUCATION_TYPE_Secondary \\\\/ secondary special\":{\"1\":1},\"NAME_FAMILY_STATUS_Civil marriage\":{\"1\":0},\"NAME_FAMILY_STATUS_Married\":{\"1\":1},\"NAME_FAMILY_STATUS_Separated\":{\"1\":0},\"NAME_FAMILY_STATUS_Single \\\\/ not married\":{\"1\":0},\"NAME_FAMILY_STATUS_Widow\":{\"1\":0},\"NAME_HOUSING_TYPE_Co-op apartment\":{\"1\":0},\"NAME_HOUSING_TYPE_House \\\\/ apartment\":{\"1\":1},\"NAME_HOUSING_TYPE_Municipal apartment\":{\"1\":0},\"NAME_HOUSING_TYPE_Office apartment\":{\"1\":0},\"NAME_HOUSING_TYPE_Rented apartment\":{\"1\":0},\"NAME_HOUSING_TYPE_With parents\":{\"1\":0},\"OCCUPATION_TYPE_Accountants\":{\"1\":0},\"OCCUPATION_TYPE_Cleaning staff\":{\"1\":0},\"OCCUPATION_TYPE_Cooking staff\":{\"1\":0},\"OCCUPATION_TYPE_Core staff\":{\"1\":0},\"OCCUPATION_TYPE_Drivers\":{\"1\":1},\"OCCUPATION_TYPE_HR staff\":{\"1\":0},\"OCCUPATION_TYPE_High skill tech staff\":{\"1\":0},\"OCCUPATION_TYPE_IT staff\":{\"1\":0},\"OCCUPATION_TYPE_Laborers\":{\"1\":0},\"OCCUPATION_TYPE_Low-skill Laborers\":{\"1\":0},\"OCCUPATION_TYPE_Managers\":{\"1\":0},\"OCCUPATION_TYPE_Medicine staff\":{\"1\":0},\"OCCUPATION_TYPE_Private service staff\":{\"1\":0},\"OCCUPATION_TYPE_Realty agents\":{\"1\":0},\"OCCUPATION_TYPE_Sales staff\":{\"1\":0},\"OCCUPATION_TYPE_Secretaries\":{\"1\":0},\"OCCUPATION_TYPE_Security staff\":{\"1\":0},\"OCCUPATION_TYPE_Waiters\\\\/barmen staff\":{\"1\":0},\"WEEKDAY_APPR_PROCESS_START_FRIDAY\":{\"1\":0},\"WEEKDAY_APPR_PROCESS_START_MONDAY\":{\"1\":1},\"WEEKDAY_APPR_PROCESS_START_SATURDAY\":{\"1\":0},\"WEEKDAY_APPR_PROCESS_START_SUNDAY\":{\"1\":0},\"WEEKDAY_APPR_PROCESS_START_THURSDAY\":{\"1\":0},\"WEEKDAY_APPR_PROCESS_START_TUESDAY\":{\"1\":0},\"WEEKDAY_APPR_PROCESS_START_WEDNESDAY\":{\"1\":0},\"ORGANIZATION_TYPE_Advertising\":{\"1\":0},\"ORGANIZATION_TYPE_Agriculture\":{\"1\":0},\"ORGANIZATION_TYPE_Bank\":{\"1\":0},\"ORGANIZATION_TYPE_Business Entity Type 1\":{\"1\":0},\"ORGANIZATION_TYPE_Business Entity Type 2\":{\"1\":0},\"ORGANIZATION_TYPE_Business Entity Type 3\":{\"1\":0},\"ORGANIZATION_TYPE_Cleaning\":{\"1\":0},\"ORGANIZATION_TYPE_Construction\":{\"1\":0},\"ORGANIZATION_TYPE_Culture\":{\"1\":0},\"ORGANIZATION_TYPE_Electricity\":{\"1\":0},\"ORGANIZATION_TYPE_Emergency\":{\"1\":0},\"ORGANIZATION_TYPE_Government\":{\"1\":1},\"ORGANIZATION_TYPE_Hotel\":{\"1\":0},\"ORGANIZATION_TYPE_Housing\":{\"1\":0},\"ORGANIZATION_TYPE_Industry: type 1\":{\"1\":0},\"ORGANIZATION_TYPE_Industry: type 10\":{\"1\":0},\"ORGANIZATION_TYPE_Industry: type 11\":{\"1\":0},\"ORGANIZATION_TYPE_Industry: type 12\":{\"1\":0},\"ORGANIZATION_TYPE_Industry: type 13\":{\"1\":0},\"ORGANIZATION_TYPE_Industry: type 2\":{\"1\":0},\"ORGANIZATION_TYPE_Industry: type 3\":{\"1\":0},\"ORGANIZATION_TYPE_Industry: type 4\":{\"1\":0},\"ORGANIZATION_TYPE_Industry: type 5\":{\"1\":0},\"ORGANIZATION_TYPE_Industry: type 6\":{\"1\":0},\"ORGANIZATION_TYPE_Industry: type 7\":{\"1\":0},\"ORGANIZATION_TYPE_Industry: type 8\":{\"1\":0},\"ORGANIZATION_TYPE_Industry: type 9\":{\"1\":0},\"ORGANIZATION_TYPE_Insurance\":{\"1\":0},\"ORGANIZATION_TYPE_Kindergarten\":{\"1\":0},\"ORGANIZATION_TYPE_Legal Services\":{\"1\":0},\"ORGANIZATION_TYPE_Medicine\":{\"1\":0},\"ORGANIZATION_TYPE_Military\":{\"1\":0},\"ORGANIZATION_TYPE_Mobile\":{\"1\":0},\"ORGANIZATION_TYPE_Other\":{\"1\":0},\"ORGANIZATION_TYPE_Police\":{\"1\":0},\"ORGANIZATION_TYPE_Postal\":{\"1\":0},\"ORGANIZATION_TYPE_Realtor\":{\"1\":0},\"ORGANIZATION_TYPE_Religion\":{\"1\":0},\"ORGANIZATION_TYPE_Restaurant\":{\"1\":0},\"ORGANIZATION_TYPE_School\":{\"1\":0},\"ORGANIZATION_TYPE_Security\":{\"1\":0},\"ORGANIZATION_TYPE_Security Ministries\":{\"1\":0},\"ORGANIZATION_TYPE_Self-employed\":{\"1\":0},\"ORGANIZATION_TYPE_Services\":{\"1\":0},\"ORGANIZATION_TYPE_Telecom\":{\"1\":0},\"ORGANIZATION_TYPE_Trade: type 1\":{\"1\":0},\"ORGANIZATION_TYPE_Trade: type 2\":{\"1\":0},\"ORGANIZATION_TYPE_Trade: type 3\":{\"1\":0},\"ORGANIZATION_TYPE_Trade: type 4\":{\"1\":0},\"ORGANIZATION_TYPE_Trade: type 5\":{\"1\":0},\"ORGANIZATION_TYPE_Trade: type 6\":{\"1\":0},\"ORGANIZATION_TYPE_Trade: type 7\":{\"1\":0},\"ORGANIZATION_TYPE_Transport: type 1\":{\"1\":0},\"ORGANIZATION_TYPE_Transport: type 2\":{\"1\":0},\"ORGANIZATION_TYPE_Transport: type 3\":{\"1\":0},\"ORGANIZATION_TYPE_Transport: type 4\":{\"1\":0},\"ORGANIZATION_TYPE_University\":{\"1\":0},\"ORGANIZATION_TYPE_XNA\":{\"1\":0},\"FONDKAPREMONT_MODE_not specified\":{\"1\":1},\"FONDKAPREMONT_MODE_org spec account\":{\"1\":0},\"FONDKAPREMONT_MODE_reg oper account\":{\"1\":0},\"FONDKAPREMONT_MODE_reg oper spec account\":{\"1\":0},\"HOUSETYPE_MODE_block of flats\":{\"1\":1},\"HOUSETYPE_MODE_specific housing\":{\"1\":0},\"HOUSETYPE_MODE_terraced house\":{\"1\":0},\"WALLSMATERIAL_MODE_Block\":{\"1\":1},\"WALLSMATERIAL_MODE_Mixed\":{\"1\":0},\"WALLSMATERIAL_MODE_Monolithic\":{\"1\":0},\"WALLSMATERIAL_MODE_Others\":{\"1\":0},\"WALLSMATERIAL_MODE_Panel\":{\"1\":0},\"WALLSMATERIAL_MODE_Stone, brick\":{\"1\":0},\"WALLSMATERIAL_MODE_Wooden\":{\"1\":0},\"EMERGENCYSTATE_MODE_No\":{\"1\":1},\"EMERGENCYSTATE_MODE_Yes\":{\"1\":0},\"DAYS_EMPLOYED_PERC\":{\"1\":0.6455063427},\"INCOME_CREDIT_PERC\":{\"1\":0.281341436},\"INCOME_PER_PERSON\":{\"1\":135000.0},\"ANNUITY_INCOME_PERC\":{\"1\":0.12815},\"PAYMENT_RATE\":{\"1\":0.036053905},\"BURO_DAYS_CREDIT_MIN\":{\"1\":-2723.0},\"BURO_DAYS_CREDIT_MAX\":{\"1\":-234.0},\"BURO_DAYS_CREDIT_MEAN\":{\"1\":-1325.5},\"BURO_DAYS_CREDIT_VAR\":{\"1\":704800.5769230771},\"BURO_DAYS_CREDIT_ENDDATE_MIN\":{\"1\":-1627.0},\"BURO_DAYS_CREDIT_ENDDATE_MAX\":{\"1\":8957.0},\"BURO_DAYS_CREDIT_ENDDATE_MEAN\":{\"1\":620.3571428571},\"BURO_DAYS_CREDIT_UPDATE_MEAN\":{\"1\":-541.0714285714},\"BURO_CREDIT_DAY_OVERDUE_MAX\":{\"1\":0.0},\"BURO_CREDIT_DAY_OVERDUE_MEAN\":{\"1\":0.0},\"BURO_AMT_CREDIT_SUM_MAX\":{\"1\":1414269.0},\"BURO_AMT_CREDIT_SUM_MEAN\":{\"1\":681475.5},\"BURO_AMT_CREDIT_SUM_SUM\":{\"1\":9540657.0},\"BURO_AMT_CREDIT_SUM_DEBT_MAX\":{\"1\":1139198.895},\"BURO_AMT_CREDIT_SUM_DEBT_MEAN\":{\"1\":256180.24125},\"BURO_AMT_CREDIT_SUM_DEBT_SUM\":{\"1\":3074162.895},\"BURO_AMT_CREDIT_SUM_OVERDUE_MEAN\":{\"1\":0.0},\"BURO_AMT_CREDIT_SUM_LIMIT_MEAN\":{\"1\":0.0},\"BURO_AMT_CREDIT_SUM_LIMIT_SUM\":{\"1\":0.0},\"BURO_CNT_CREDIT_PROLONG_SUM\":{\"1\":0.0},\"BURO_MONTHS_BALANCE_SIZE_SUM\":{\"1\":615.0},\"BURO_CREDIT_ACTIVE_Active_MEAN\":{\"1\":0.5714285714},\"BURO_CREDIT_ACTIVE_Bad debt_MEAN\":{\"1\":0.0},\"BURO_CREDIT_ACTIVE_Closed_MEAN\":{\"1\":0.4285714286},\"BURO_CREDIT_ACTIVE_Sold_MEAN\":{\"1\":0.0},\"BURO_CREDIT_ACTIVE_nan_MEAN\":{\"1\":0.0},\"BURO_CREDIT_CURRENCY_currency 1_MEAN\":{\"1\":1.0},\"BURO_CREDIT_CURRENCY_currency 2_MEAN\":{\"1\":0.0},\"BURO_CREDIT_CURRENCY_currency 3_MEAN\":{\"1\":0.0},\"BURO_CREDIT_CURRENCY_currency 4_MEAN\":{\"1\":0.0},\"BURO_CREDIT_CURRENCY_nan_MEAN\":{\"1\":0.0},\"BURO_CREDIT_TYPE_Another type of loan_MEAN\":{\"1\":0.0},\"BURO_CREDIT_TYPE_Car loan_MEAN\":{\"1\":0.0},\"BURO_CREDIT_TYPE_Cash loan (non-earmarked)_MEAN\":{\"1\":0.0},\"BURO_CREDIT_TYPE_Consumer credit_MEAN\":{\"1\":0.7857142857},\"BURO_CREDIT_TYPE_Credit card_MEAN\":{\"1\":0.2142857143},\"BURO_CREDIT_TYPE_Interbank credit_MEAN\":{\"1\":0.0},\"BURO_CREDIT_TYPE_Loan for business development_MEAN\":{\"1\":0.0},\"BURO_CREDIT_TYPE_Loan for purchase of shares (margin lending)_MEAN\":{\"1\":0.0},\"BURO_CREDIT_TYPE_Loan for the purchase of equipment_MEAN\":{\"1\":0.0},\"BURO_CREDIT_TYPE_Loan for working capital replenishment_MEAN\":{\"1\":0.0},\"BURO_CREDIT_TYPE_Microloan_MEAN\":{\"1\":0.0},\"BURO_CREDIT_TYPE_Mobile operator loan_MEAN\":{\"1\":0.0},\"BURO_CREDIT_TYPE_Mortgage_MEAN\":{\"1\":0.0},\"BURO_CREDIT_TYPE_Real estate loan_MEAN\":{\"1\":0.0},\"BURO_CREDIT_TYPE_Unknown type of loan_MEAN\":{\"1\":0.0},\"BURO_CREDIT_TYPE_nan_MEAN\":{\"1\":0.0},\"ACTIVE_DAYS_CREDIT_MIN\":{\"1\":-2000.0},\"ACTIVE_DAYS_CREDIT_MAX\":{\"1\":-234.0},\"ACTIVE_DAYS_CREDIT_MEAN\":{\"1\":-1009.75},\"ACTIVE_DAYS_CREDIT_UPDATE_MEAN\":{\"1\":-167.25},\"ACTIVE_CREDIT_DAY_OVERDUE_MAX\":{\"1\":0.0},\"ACTIVE_CREDIT_DAY_OVERDUE_MEAN\":{\"1\":0.0},\"ACTIVE_AMT_CREDIT_SUM_MAX\":{\"1\":1414269.0},\"ACTIVE_AMT_CREDIT_SUM_MEAN\":{\"1\":569173.5},\"ACTIVE_AMT_CREDIT_SUM_SUM\":{\"1\":4553388.0},\"ACTIVE_AMT_CREDIT_SUM_DEBT_SUM\":{\"1\":3074162.895},\"ACTIVE_AMT_CREDIT_SUM_OVERDUE_MEAN\":{\"1\":0.0},\"ACTIVE_AMT_CREDIT_SUM_LIMIT_SUM\":{\"1\":0.0},\"ACTIVE_CNT_CREDIT_PROLONG_SUM\":{\"1\":0.0},\"ACTIVE_MONTHS_BALANCE_SIZE_SUM\":{\"1\":268.0},\"CLOSED_DAYS_CREDIT_MIN\":{\"1\":-2723.0},\"CLOSED_DAYS_CREDIT_MAX\":{\"1\":-262.0},\"CLOSED_DAYS_CREDIT_MEAN\":{\"1\":-1746.5},\"CLOSED_DAYS_CREDIT_ENDDATE_MIN\":{\"1\":-1627.0},\"CLOSED_DAYS_CREDIT_ENDDATE_MAX\":{\"1\":1669.0},\"CLOSED_DAYS_CREDIT_ENDDATE_MEAN\":{\"1\":-480.5},\"CLOSED_DAYS_CREDIT_UPDATE_MEAN\":{\"1\":-1039.5},\"CLOSED_CREDIT_DAY_OVERDUE_MAX\":{\"1\":0.0},\"CLOSED_CREDIT_DAY_OVERDUE_MEAN\":{\"1\":0.0},\"CLOSED_AMT_CREDIT_SUM_MAX\":{\"1\":1414269.0},\"CLOSED_AMT_CREDIT_SUM_MEAN\":{\"1\":831211.5},\"CLOSED_AMT_CREDIT_SUM_SUM\":{\"1\":4987269.0},\"CLOSED_AMT_CREDIT_SUM_DEBT_MAX\":{\"1\":0.0},\"CLOSED_AMT_CREDIT_SUM_DEBT_MEAN\":{\"1\":0.0},\"CLOSED_AMT_CREDIT_SUM_DEBT_SUM\":{\"1\":0.0},\"CLOSED_AMT_CREDIT_SUM_OVERDUE_MEAN\":{\"1\":0.0},\"CLOSED_AMT_CREDIT_SUM_LIMIT_SUM\":{\"1\":0.0},\"CLOSED_CNT_CREDIT_PROLONG_SUM\":{\"1\":0.0},\"CLOSED_MONTHS_BALANCE_SIZE_SUM\":{\"1\":347.0},\"PREV_AMT_ANNUITY_MIN\":{\"1\":4500.0},\"PREV_AMT_ANNUITY_MAX\":{\"1\":47660.85},\"PREV_AMT_ANNUITY_MEAN\":{\"1\":23669.88},\"PREV_AMT_APPLICATION_MIN\":{\"1\":0.0},\"PREV_AMT_APPLICATION_MAX\":{\"1\":967500.0},\"PREV_AMT_APPLICATION_MEAN\":{\"1\":415884.0},\"PREV_AMT_CREDIT_MIN\":{\"1\":90000.0},\"PREV_AMT_CREDIT_MAX\":{\"1\":1051789.5},\"PREV_AMT_CREDIT_MEAN\":{\"1\":458168.0},\"PREV_APP_CREDIT_PERC_MIN\":{\"1\":0.0},\"PREV_APP_CREDIT_PERC_MAX\":{\"1\":1.0264535295},\"PREV_APP_CREDIT_PERC_MEAN\":{\"1\":0.8382178022},\"PREV_APP_CREDIT_PERC_VAR\":{\"1\":0.100558483},\"PREV_AMT_DOWN_PAYMENT_MIN\":{\"1\":0.0},\"PREV_AMT_DOWN_PAYMENT_MAX\":{\"1\":9796.5},\"PREV_AMT_DOWN_PAYMENT_MEAN\":{\"1\":2449.125},\"PREV_AMT_GOODS_PRICE_MIN\":{\"1\":97956.0},\"PREV_AMT_GOODS_PRICE_MAX\":{\"1\":967500.0},\"PREV_AMT_GOODS_PRICE_MEAN\":{\"1\":467869.5},\"PREV_HOUR_APPR_PROCESS_START_MIN\":{\"1\":9.0},\"PREV_HOUR_APPR_PROCESS_START_MAX\":{\"1\":14.0},\"PREV_HOUR_APPR_PROCESS_START_MEAN\":{\"1\":12.0},\"PREV_RATE_DOWN_PAYMENT_MIN\":{\"1\":0.0},\"PREV_RATE_DOWN_PAYMENT_MAX\":{\"1\":0.1013920163},\"PREV_RATE_DOWN_PAYMENT_MEAN\":{\"1\":0.0253480041},\"PREV_DAYS_DECISION_MIN\":{\"1\":-2750.0},\"PREV_DAYS_DECISION_MAX\":{\"1\":-679.0},\"PREV_DAYS_DECISION_MEAN\":{\"1\":-1821.7777777778},\"PREV_CNT_PAYMENT_MEAN\":{\"1\":21.1111111111},\"PREV_CNT_PAYMENT_SUM\":{\"1\":190.0},\"PREV_NAME_CONTRACT_TYPE_Cash loans_MEAN\":{\"1\":0.7777777778},\"PREV_NAME_CONTRACT_TYPE_Consumer loans_MEAN\":{\"1\":0.1111111111},\"PREV_NAME_CONTRACT_TYPE_Revolving loans_MEAN\":{\"1\":0.1111111111},\"PREV_NAME_CONTRACT_TYPE_XNA_MEAN\":{\"1\":0.0},\"PREV_NAME_CONTRACT_TYPE_nan_MEAN\":{\"1\":0.0},\"PREV_WEEKDAY_APPR_PROCESS_START_FRIDAY_MEAN\":{\"1\":0.2222222222},\"PREV_WEEKDAY_APPR_PROCESS_START_MONDAY_MEAN\":{\"1\":0.3333333333},\"PREV_WEEKDAY_APPR_PROCESS_START_SATURDAY_MEAN\":{\"1\":0.0},\"PREV_WEEKDAY_APPR_PROCESS_START_SUNDAY_MEAN\":{\"1\":0.0},\"PREV_WEEKDAY_APPR_PROCESS_START_THURSDAY_MEAN\":{\"1\":0.2222222222},\"PREV_WEEKDAY_APPR_PROCESS_START_TUESDAY_MEAN\":{\"1\":0.2222222222},\"PREV_WEEKDAY_APPR_PROCESS_START_WEDNESDAY_MEAN\":{\"1\":0.0},\"PREV_WEEKDAY_APPR_PROCESS_START_nan_MEAN\":{\"1\":0.0},\"PREV_FLAG_LAST_APPL_PER_CONTRACT_N_MEAN\":{\"1\":0.0},\"PREV_FLAG_LAST_APPL_PER_CONTRACT_Y_MEAN\":{\"1\":1.0},\"PREV_FLAG_LAST_APPL_PER_CONTRACT_nan_MEAN\":{\"1\":0.0},\"PREV_NAME_CASH_LOAN_PURPOSE_Building a house or an annex_MEAN\":{\"1\":0.0},\"PREV_NAME_CASH_LOAN_PURPOSE_Business development_MEAN\":{\"1\":0.0},\"PREV_NAME_CASH_LOAN_PURPOSE_Buying a garage_MEAN\":{\"1\":0.0},\"PREV_NAME_CASH_LOAN_PURPOSE_Buying a holiday home \\\\/ land_MEAN\":{\"1\":0.0},\"PREV_NAME_CASH_LOAN_PURPOSE_Buying a home_MEAN\":{\"1\":0.0},\"PREV_NAME_CASH_LOAN_PURPOSE_Buying a new car_MEAN\":{\"1\":0.0},\"PREV_NAME_CASH_LOAN_PURPOSE_Buying a used car_MEAN\":{\"1\":0.0},\"PREV_NAME_CASH_LOAN_PURPOSE_Car repairs_MEAN\":{\"1\":0.0},\"PREV_NAME_CASH_LOAN_PURPOSE_Education_MEAN\":{\"1\":0.1111111111},\"PREV_NAME_CASH_LOAN_PURPOSE_Everyday expenses_MEAN\":{\"1\":0.2222222222},\"PREV_NAME_CASH_LOAN_PURPOSE_Furniture_MEAN\":{\"1\":0.0},\"PREV_NAME_CASH_LOAN_PURPOSE_Gasification \\\\/ water supply_MEAN\":{\"1\":0.0},\"PREV_NAME_CASH_LOAN_PURPOSE_Hobby_MEAN\":{\"1\":0.0},\"PREV_NAME_CASH_LOAN_PURPOSE_Journey_MEAN\":{\"1\":0.0},\"PREV_NAME_CASH_LOAN_PURPOSE_Medicine_MEAN\":{\"1\":0.0},\"PREV_NAME_CASH_LOAN_PURPOSE_Money for a third person_MEAN\":{\"1\":0.0},\"PREV_NAME_CASH_LOAN_PURPOSE_Other_MEAN\":{\"1\":0.0},\"PREV_NAME_CASH_LOAN_PURPOSE_Payments on other loans_MEAN\":{\"1\":0.0},\"PREV_NAME_CASH_LOAN_PURPOSE_Purchase of electronic equipment_MEAN\":{\"1\":0.0},\"PREV_NAME_CASH_LOAN_PURPOSE_Refusal to name the goal_MEAN\":{\"1\":0.0},\"PREV_NAME_CASH_LOAN_PURPOSE_Repairs_MEAN\":{\"1\":0.0},\"PREV_NAME_CASH_LOAN_PURPOSE_Urgent needs_MEAN\":{\"1\":0.0},\"PREV_NAME_CASH_LOAN_PURPOSE_Wedding \\\\/ gift \\\\/ holiday_MEAN\":{\"1\":0.0},\"PREV_NAME_CASH_LOAN_PURPOSE_XAP_MEAN\":{\"1\":0.2222222222},\"PREV_NAME_CASH_LOAN_PURPOSE_XNA_MEAN\":{\"1\":0.4444444444},\"PREV_NAME_CASH_LOAN_PURPOSE_nan_MEAN\":{\"1\":0.0},\"PREV_NAME_CONTRACT_STATUS_Approved_MEAN\":{\"1\":1.0},\"PREV_NAME_CONTRACT_STATUS_Canceled_MEAN\":{\"1\":0.0},\"PREV_NAME_CONTRACT_STATUS_Refused_MEAN\":{\"1\":0.0},\"PREV_NAME_CONTRACT_STATUS_Unused offer_MEAN\":{\"1\":0.0},\"PREV_NAME_CONTRACT_STATUS_nan_MEAN\":{\"1\":0.0},\"PREV_NAME_PAYMENT_TYPE_Cash through the bank_MEAN\":{\"1\":0.8888888889},\"PREV_NAME_PAYMENT_TYPE_Cashless from the account of the employer_MEAN\":{\"1\":0.0},\"PREV_NAME_PAYMENT_TYPE_Non-cash from your account_MEAN\":{\"1\":0.0},\"PREV_NAME_PAYMENT_TYPE_XNA_MEAN\":{\"1\":0.1111111111},\"PREV_NAME_PAYMENT_TYPE_nan_MEAN\":{\"1\":0.0},\"PREV_CODE_REJECT_REASON_CLIENT_MEAN\":{\"1\":0.0},\"PREV_CODE_REJECT_REASON_HC_MEAN\":{\"1\":0.0},\"PREV_CODE_REJECT_REASON_LIMIT_MEAN\":{\"1\":0.0},\"PREV_CODE_REJECT_REASON_SCO_MEAN\":{\"1\":0.0},\"PREV_CODE_REJECT_REASON_SCOFR_MEAN\":{\"1\":0.0},\"PREV_CODE_REJECT_REASON_SYSTEM_MEAN\":{\"1\":0.0},\"PREV_CODE_REJECT_REASON_VERIF_MEAN\":{\"1\":0.0},\"PREV_CODE_REJECT_REASON_XAP_MEAN\":{\"1\":1.0},\"PREV_CODE_REJECT_REASON_XNA_MEAN\":{\"1\":0.0},\"PREV_CODE_REJECT_REASON_nan_MEAN\":{\"1\":0.0},\"PREV_NAME_TYPE_SUITE_Children_MEAN\":{\"1\":0.0},\"PREV_NAME_TYPE_SUITE_Family_MEAN\":{\"1\":0.1111111111},\"PREV_NAME_TYPE_SUITE_Group of people_MEAN\":{\"1\":0.0},\"PREV_NAME_TYPE_SUITE_Other_A_MEAN\":{\"1\":0.0},\"PREV_NAME_TYPE_SUITE_Other_B_MEAN\":{\"1\":0.0},\"PREV_NAME_TYPE_SUITE_Spouse, partner_MEAN\":{\"1\":0.0},\"PREV_NAME_TYPE_SUITE_Unaccompanied_MEAN\":{\"1\":0.6666666667},\"PREV_NAME_TYPE_SUITE_nan_MEAN\":{\"1\":0.2222222222},\"PREV_NAME_CLIENT_TYPE_New_MEAN\":{\"1\":0.1111111111},\"PREV_NAME_CLIENT_TYPE_Refreshed_MEAN\":{\"1\":0.0},\"PREV_NAME_CLIENT_TYPE_Repeater_MEAN\":{\"1\":0.8888888889},\"PREV_NAME_CLIENT_TYPE_XNA_MEAN\":{\"1\":0.0},\"PREV_NAME_CLIENT_TYPE_nan_MEAN\":{\"1\":0.0},\"PREV_NAME_GOODS_CATEGORY_Additional Service_MEAN\":{\"1\":0.0},\"PREV_NAME_GOODS_CATEGORY_Animals_MEAN\":{\"1\":0.0},\"PREV_NAME_GOODS_CATEGORY_Audio\\\\/Video_MEAN\":{\"1\":0.0},\"PREV_NAME_GOODS_CATEGORY_Auto Accessories_MEAN\":{\"1\":0.0},\"PREV_NAME_GOODS_CATEGORY_Clothing and Accessories_MEAN\":{\"1\":0.0},\"PREV_NAME_GOODS_CATEGORY_Computers_MEAN\":{\"1\":0.0},\"PREV_NAME_GOODS_CATEGORY_Construction Materials_MEAN\":{\"1\":0.0},\"PREV_NAME_GOODS_CATEGORY_Consumer Electronics_MEAN\":{\"1\":0.1111111111},\"PREV_NAME_GOODS_CATEGORY_Direct Sales_MEAN\":{\"1\":0.0},\"PREV_NAME_GOODS_CATEGORY_Education_MEAN\":{\"1\":0.0},\"PREV_NAME_GOODS_CATEGORY_Fitness_MEAN\":{\"1\":0.0},\"PREV_NAME_GOODS_CATEGORY_Furniture_MEAN\":{\"1\":0.0},\"PREV_NAME_GOODS_CATEGORY_Gardening_MEAN\":{\"1\":0.0},\"PREV_NAME_GOODS_CATEGORY_Homewares_MEAN\":{\"1\":0.0},\"PREV_NAME_GOODS_CATEGORY_House Construction_MEAN\":{\"1\":0.0},\"PREV_NAME_GOODS_CATEGORY_Insurance_MEAN\":{\"1\":0.0},\"PREV_NAME_GOODS_CATEGORY_Jewelry_MEAN\":{\"1\":0.0},\"PREV_NAME_GOODS_CATEGORY_Medical Supplies_MEAN\":{\"1\":0.0},\"PREV_NAME_GOODS_CATEGORY_Medicine_MEAN\":{\"1\":0.0},\"PREV_NAME_GOODS_CATEGORY_Mobile_MEAN\":{\"1\":0.0},\"PREV_NAME_GOODS_CATEGORY_Office Appliances_MEAN\":{\"1\":0.0},\"PREV_NAME_GOODS_CATEGORY_Other_MEAN\":{\"1\":0.0},\"PREV_NAME_GOODS_CATEGORY_Photo \\\\/ Cinema Equipment_MEAN\":{\"1\":0.0},\"PREV_NAME_GOODS_CATEGORY_Sport and Leisure_MEAN\":{\"1\":0.0},\"PREV_NAME_GOODS_CATEGORY_Tourism_MEAN\":{\"1\":0.0},\"PREV_NAME_GOODS_CATEGORY_Vehicles_MEAN\":{\"1\":0.0},\"PREV_NAME_GOODS_CATEGORY_Weapon_MEAN\":{\"1\":0.0},\"PREV_NAME_GOODS_CATEGORY_XNA_MEAN\":{\"1\":0.8888888889},\"PREV_NAME_GOODS_CATEGORY_nan_MEAN\":{\"1\":0.0},\"PREV_NAME_PORTFOLIO_Cards_MEAN\":{\"1\":0.1111111111},\"PREV_NAME_PORTFOLIO_Cars_MEAN\":{\"1\":0.0},\"PREV_NAME_PORTFOLIO_Cash_MEAN\":{\"1\":0.7777777778},\"PREV_NAME_PORTFOLIO_POS_MEAN\":{\"1\":0.1111111111},\"PREV_NAME_PORTFOLIO_XNA_MEAN\":{\"1\":0.0},\"PREV_NAME_PORTFOLIO_nan_MEAN\":{\"1\":0.0},\"PREV_NAME_PRODUCT_TYPE_XNA_MEAN\":{\"1\":0.1111111111},\"PREV_NAME_PRODUCT_TYPE_walk-in_MEAN\":{\"1\":0.5555555556},\"PREV_NAME_PRODUCT_TYPE_x-sell_MEAN\":{\"1\":0.3333333333},\"PREV_NAME_PRODUCT_TYPE_nan_MEAN\":{\"1\":0.0},\"PREV_CHANNEL_TYPE_AP+ (Cash loan)_MEAN\":{\"1\":0.0},\"PREV_CHANNEL_TYPE_Car dealer_MEAN\":{\"1\":0.0},\"PREV_CHANNEL_TYPE_Channel of corporate sales_MEAN\":{\"1\":0.0},\"PREV_CHANNEL_TYPE_Contact center_MEAN\":{\"1\":0.1111111111},\"PREV_CHANNEL_TYPE_Country-wide_MEAN\":{\"1\":0.1111111111},\"PREV_CHANNEL_TYPE_Credit and cash offices_MEAN\":{\"1\":0.7777777778},\"PREV_CHANNEL_TYPE_Regional \\\\/ Local_MEAN\":{\"1\":0.0},\"PREV_CHANNEL_TYPE_Stone_MEAN\":{\"1\":0.0},\"PREV_CHANNEL_TYPE_nan_MEAN\":{\"1\":0.0},\"PREV_NAME_SELLER_INDUSTRY_Auto technology_MEAN\":{\"1\":0.0},\"PREV_NAME_SELLER_INDUSTRY_Clothing_MEAN\":{\"1\":0.0},\"PREV_NAME_SELLER_INDUSTRY_Connectivity_MEAN\":{\"1\":0.0},\"PREV_NAME_SELLER_INDUSTRY_Construction_MEAN\":{\"1\":0.0},\"PREV_NAME_SELLER_INDUSTRY_Consumer electronics_MEAN\":{\"1\":0.1111111111},\"PREV_NAME_SELLER_INDUSTRY_Furniture_MEAN\":{\"1\":0.0},\"PREV_NAME_SELLER_INDUSTRY_Industry_MEAN\":{\"1\":0.0},\"PREV_NAME_SELLER_INDUSTRY_Jewelry_MEAN\":{\"1\":0.0},\"PREV_NAME_SELLER_INDUSTRY_MLM partners_MEAN\":{\"1\":0.0},\"PREV_NAME_SELLER_INDUSTRY_Tourism_MEAN\":{\"1\":0.0},\"PREV_NAME_SELLER_INDUSTRY_XNA_MEAN\":{\"1\":0.8888888889},\"PREV_NAME_SELLER_INDUSTRY_nan_MEAN\":{\"1\":0.0},\"PREV_NAME_YIELD_GROUP_XNA_MEAN\":{\"1\":0.1111111111},\"PREV_NAME_YIELD_GROUP_high_MEAN\":{\"1\":0.1111111111},\"PREV_NAME_YIELD_GROUP_low_action_MEAN\":{\"1\":0.0},\"PREV_NAME_YIELD_GROUP_low_normal_MEAN\":{\"1\":0.3333333333},\"PREV_NAME_YIELD_GROUP_middle_MEAN\":{\"1\":0.4444444444},\"PREV_NAME_YIELD_GROUP_nan_MEAN\":{\"1\":0.0},\"PREV_PRODUCT_COMBINATION_Card Street_MEAN\":{\"1\":0.0},\"PREV_PRODUCT_COMBINATION_Card X-Sell_MEAN\":{\"1\":0.1111111111},\"PREV_PRODUCT_COMBINATION_Cash_MEAN\":{\"1\":0.0},\"PREV_PRODUCT_COMBINATION_Cash Street: high_MEAN\":{\"1\":0.1111111111},\"PREV_PRODUCT_COMBINATION_Cash Street: low_MEAN\":{\"1\":0.2222222222},\"PREV_PRODUCT_COMBINATION_Cash Street: middle_MEAN\":{\"1\":0.2222222222},\"PREV_PRODUCT_COMBINATION_Cash X-Sell: high_MEAN\":{\"1\":0.0},\"PREV_PRODUCT_COMBINATION_Cash X-Sell: low_MEAN\":{\"1\":0.0},\"PREV_PRODUCT_COMBINATION_Cash X-Sell: middle_MEAN\":{\"1\":0.2222222222},\"PREV_PRODUCT_COMBINATION_POS household with interest_MEAN\":{\"1\":0.0},\"PREV_PRODUCT_COMBINATION_POS household without interest_MEAN\":{\"1\":0.1111111111},\"PREV_PRODUCT_COMBINATION_POS industry with interest_MEAN\":{\"1\":0.0},\"PREV_PRODUCT_COMBINATION_POS industry without interest_MEAN\":{\"1\":0.0},\"PREV_PRODUCT_COMBINATION_POS mobile with interest_MEAN\":{\"1\":0.0},\"PREV_PRODUCT_COMBINATION_POS mobile without interest_MEAN\":{\"1\":0.0},\"PREV_PRODUCT_COMBINATION_POS other with interest_MEAN\":{\"1\":0.0},\"PREV_PRODUCT_COMBINATION_POS others without interest_MEAN\":{\"1\":0.0},\"PREV_PRODUCT_COMBINATION_nan_MEAN\":{\"1\":0.0},\"APPROVED_AMT_ANNUITY_MIN\":{\"1\":4500.0},\"APPROVED_AMT_ANNUITY_MAX\":{\"1\":47660.85},\"APPROVED_AMT_ANNUITY_MEAN\":{\"1\":23669.88},\"APPROVED_AMT_APPLICATION_MIN\":{\"1\":0.0},\"APPROVED_AMT_APPLICATION_MAX\":{\"1\":967500.0},\"APPROVED_AMT_APPLICATION_MEAN\":{\"1\":415884.0},\"APPROVED_AMT_CREDIT_MIN\":{\"1\":90000.0},\"APPROVED_AMT_CREDIT_MAX\":{\"1\":1051789.5},\"APPROVED_AMT_CREDIT_MEAN\":{\"1\":458168.0},\"APPROVED_APP_CREDIT_PERC_MIN\":{\"1\":0.0},\"APPROVED_APP_CREDIT_PERC_MAX\":{\"1\":1.0264535295},\"APPROVED_APP_CREDIT_PERC_MEAN\":{\"1\":0.8382178022},\"APPROVED_AMT_DOWN_PAYMENT_MIN\":{\"1\":0.0},\"APPROVED_AMT_DOWN_PAYMENT_MAX\":{\"1\":9796.5},\"APPROVED_AMT_DOWN_PAYMENT_MEAN\":{\"1\":2449.125},\"APPROVED_AMT_GOODS_PRICE_MIN\":{\"1\":97956.0},\"APPROVED_AMT_GOODS_PRICE_MAX\":{\"1\":967500.0},\"APPROVED_AMT_GOODS_PRICE_MEAN\":{\"1\":467869.5},\"APPROVED_HOUR_APPR_PROCESS_START_MIN\":{\"1\":9.0},\"APPROVED_HOUR_APPR_PROCESS_START_MAX\":{\"1\":14.0},\"APPROVED_HOUR_APPR_PROCESS_START_MEAN\":{\"1\":12.0},\"APPROVED_RATE_DOWN_PAYMENT_MIN\":{\"1\":0.0},\"APPROVED_RATE_DOWN_PAYMENT_MAX\":{\"1\":0.1013920163},\"APPROVED_RATE_DOWN_PAYMENT_MEAN\":{\"1\":0.0253480041},\"APPROVED_DAYS_DECISION_MIN\":{\"1\":-2750.0},\"APPROVED_DAYS_DECISION_MAX\":{\"1\":-679.0},\"APPROVED_DAYS_DECISION_MEAN\":{\"1\":-1821.7777777778},\"APPROVED_CNT_PAYMENT_MEAN\":{\"1\":21.1111111111},\"APPROVED_CNT_PAYMENT_SUM\":{\"1\":190.0},\"POS_MONTHS_BALANCE_MAX\":{\"1\":-21.0},\"POS_MONTHS_BALANCE_MEAN\":{\"1\":-55.4153846154},\"POS_MONTHS_BALANCE_SIZE\":{\"1\":65.0},\"POS_SK_DPD_MAX\":{\"1\":0.0},\"POS_SK_DPD_MEAN\":{\"1\":0.0},\"POS_SK_DPD_DEF_MAX\":{\"1\":0.0},\"POS_SK_DPD_DEF_MEAN\":{\"1\":0.0},\"POS_NAME_CONTRACT_STATUS_Active_MEAN\":{\"1\":0.9076923077},\"POS_NAME_CONTRACT_STATUS_Amortized debt_MEAN\":{\"1\":0.0},\"POS_NAME_CONTRACT_STATUS_Approved_MEAN\":{\"1\":0.0},\"POS_NAME_CONTRACT_STATUS_Canceled_MEAN\":{\"1\":0.0},\"POS_NAME_CONTRACT_STATUS_Completed_MEAN\":{\"1\":0.0923076923},\"POS_NAME_CONTRACT_STATUS_Demand_MEAN\":{\"1\":0.0},\"POS_NAME_CONTRACT_STATUS_Returned to the store_MEAN\":{\"1\":0.0},\"POS_NAME_CONTRACT_STATUS_Signed_MEAN\":{\"1\":0.0},\"POS_NAME_CONTRACT_STATUS_XNA_MEAN\":{\"1\":0.0},\"POS_NAME_CONTRACT_STATUS_nan_MEAN\":{\"1\":0.0},\"POS_COUNT\":{\"1\":65.0},\"INSTAL_NUM_INSTALMENT_VERSION_NUNIQUE\":{\"1\":3.0},\"INSTAL_DPD_MAX\":{\"1\":17.0},\"INSTAL_DPD_MEAN\":{\"1\":0.1923076923},\"INSTAL_DPD_SUM\":{\"1\":35.0},\"INSTAL_DBD_MAX\":{\"1\":32.0},\"INSTAL_DBD_MEAN\":{\"1\":6.3076923077},\"INSTAL_DBD_SUM\":{\"1\":1148.0},\"INSTAL_PAYMENT_PERC_MAX\":{\"1\":1.0},\"INSTAL_PAYMENT_PERC_MEAN\":{\"1\":0.9835164835},\"INSTAL_PAYMENT_PERC_SUM\":{\"1\":179.0},\"INSTAL_PAYMENT_PERC_VAR\":{\"1\":0.0137172371},\"INSTAL_PAYMENT_DIFF_MAX\":{\"1\":32670.9},\"INSTAL_PAYMENT_DIFF_MEAN\":{\"1\":263.3746153846},\"INSTAL_PAYMENT_DIFF_SUM\":{\"1\":47934.18},\"INSTAL_PAYMENT_DIFF_VAR\":{\"1\":6245786.1847907426},\"INSTAL_AMT_INSTALMENT_MAX\":{\"1\":1082512.575},\"INSTAL_AMT_INSTALMENT_MEAN\":{\"1\":22120.1779945055},\"INSTAL_AMT_INSTALMENT_SUM\":{\"1\":4025872.395},\"INSTAL_AMT_PAYMENT_MIN\":{\"1\":32.85},\"INSTAL_AMT_PAYMENT_MAX\":{\"1\":1082512.575},\"INSTAL_AMT_PAYMENT_MEAN\":{\"1\":21856.8033791209},\"INSTAL_AMT_PAYMENT_SUM\":{\"1\":3977938.2149999999},\"INSTAL_DAYS_ENTRY_PAYMENT_MAX\":{\"1\":-17.0},\"INSTAL_DAYS_ENTRY_PAYMENT_MEAN\":{\"1\":-1546.2087912088},\"INSTAL_DAYS_ENTRY_PAYMENT_SUM\":{\"1\":-281410.0},\"INSTAL_COUNT\":{\"1\":182.0},\"NAME_INCOME_TYPE_Maternity leave\":{\"1\":0},\"NAME_FAMILY_STATUS_Unknown leave\":{\"1\":0}}'"
      ]
     },
     "execution_count": 3,
     "metadata": {},
     "output_type": "execute_result"
    }
   ],
   "source": [
    "params = x.to_json()\n",
    "params"
   ]
  },
  {
   "cell_type": "code",
   "execution_count": 11,
   "metadata": {},
   "outputs": [
    {
     "data": {
      "text/plain": [
       "<Response [200]>"
      ]
     },
     "execution_count": 11,
     "metadata": {},
     "output_type": "execute_result"
    }
   ],
   "source": [
    "url = 'http://localhost:5000/predict'\n",
    "r = requests.post(url, json=params)\n",
    "r"
   ]
  },
  {
   "cell_type": "code",
   "execution_count": 12,
   "metadata": {},
   "outputs": [
    {
     "data": {
      "text/plain": [
       "0.5497577619182724"
      ]
     },
     "execution_count": 12,
     "metadata": {},
     "output_type": "execute_result"
    }
   ],
   "source": [
    "data = r.json()\n",
    "data"
   ]
  }
 ],
 "metadata": {
  "kernelspec": {
   "display_name": "OC-P7-5dK-jRoi",
   "language": "python",
   "name": "python3"
  },
  "language_info": {
   "codemirror_mode": {
    "name": "ipython",
    "version": 3
   },
   "file_extension": ".py",
   "mimetype": "text/x-python",
   "name": "python",
   "nbconvert_exporter": "python",
   "pygments_lexer": "ipython3",
   "version": "3.8.0"
  },
  "orig_nbformat": 4
 },
 "nbformat": 4,
 "nbformat_minor": 2
}
