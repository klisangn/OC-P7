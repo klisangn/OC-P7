{
 "cells": [
  {
   "cell_type": "markdown",
   "metadata": {},
   "source": [
    "# Import"
   ]
  },
  {
   "cell_type": "code",
   "execution_count": 1,
   "metadata": {},
   "outputs": [],
   "source": [
    "%load_ext autoreload\n",
    "%autoreload 2"
   ]
  },
  {
   "cell_type": "code",
   "execution_count": 2,
   "metadata": {},
   "outputs": [],
   "source": [
    "import sys\n",
    "import os\n",
    "import time\n",
    "parent_dir = os.path.abspath('..')\n",
    "sys.path.insert(1, parent_dir)"
   ]
  },
  {
   "cell_type": "code",
   "execution_count": 3,
   "metadata": {},
   "outputs": [],
   "source": [
    "import pandas as pd\n",
    "import numpy as np\n",
    "import seaborn as sns\n",
    "import matplotlib.pyplot as plt\n",
    "from sklearn.dummy import DummyClassifier\n",
    "from sklearn.impute import SimpleImputer\n",
    "from imblearn.pipeline import Pipeline\n",
    "from imblearn.over_sampling import SMOTE\n",
    "from collections import Counter\n",
    "from sklearn.model_selection import GridSearchCV\n",
    "from lightgbm import LGBMClassifier\n",
    "from catboost import CatBoostClassifier\n",
    "from sklearn.ensemble import RandomForestClassifier\n",
    "from sklearn.metrics import make_scorer, fbeta_score"
   ]
  },
  {
   "cell_type": "code",
   "execution_count": 4,
   "metadata": {},
   "outputs": [],
   "source": [
    "from tools.functions import missing_values_summary, unique_value_counts, pct_null_buckets"
   ]
  },
  {
   "cell_type": "code",
   "execution_count": 5,
   "metadata": {},
   "outputs": [],
   "source": [
    "from tools import LightGBM"
   ]
  },
  {
   "cell_type": "code",
   "execution_count": 66,
   "metadata": {},
   "outputs": [],
   "source": [
    "from tools.mlflow_tracking import log_model"
   ]
  },
  {
   "attachments": {},
   "cell_type": "markdown",
   "metadata": {},
   "source": [
    "# Exploration"
   ]
  },
  {
   "cell_type": "code",
   "execution_count": 6,
   "metadata": {},
   "outputs": [
    {
     "data": {
      "text/plain": [
       "['application_test.csv',\n",
       " 'application_train.csv',\n",
       " 'bureau.csv',\n",
       " 'bureau_balance.csv',\n",
       " 'credit_card_balance.csv',\n",
       " 'data.csv',\n",
       " 'HomeCredit_columns_description.csv',\n",
       " 'installments_payments.csv',\n",
       " 'POS_CASH_balance.csv',\n",
       " 'previous_application.csv',\n",
       " 'sample_submission.csv']"
      ]
     },
     "execution_count": 6,
     "metadata": {},
     "output_type": "execute_result"
    }
   ],
   "source": [
    "csv_path = os.path.join(parent_dir, \"data\")\n",
    "file_names = [f for f in os.listdir(csv_path) if f.endswith(\".csv\")]\n",
    "file_names"
   ]
  },
  {
   "cell_type": "markdown",
   "metadata": {},
   "source": [
    "## application_test"
   ]
  },
  {
   "cell_type": "code",
   "execution_count": null,
   "metadata": {},
   "outputs": [],
   "source": [
    "file = file_names[0]\n",
    "path = os.path.join('..','data', file)\n",
    "data = pd.read_csv(path)\n",
    "data.head()"
   ]
  },
  {
   "cell_type": "code",
   "execution_count": null,
   "metadata": {},
   "outputs": [],
   "source": [
    "data.info()"
   ]
  },
  {
   "cell_type": "code",
   "execution_count": null,
   "metadata": {},
   "outputs": [],
   "source": [
    "temp = missing_values_summary(data, ascending=False)\n",
    "temp"
   ]
  },
  {
   "attachments": {},
   "cell_type": "markdown",
   "metadata": {},
   "source": [
    "## application_train"
   ]
  },
  {
   "cell_type": "code",
   "execution_count": null,
   "metadata": {},
   "outputs": [],
   "source": [
    "file = file_names[1]\n",
    "print(file)\n",
    "path = os.path.join('..','data', file)\n",
    "data = pd.read_csv(path)\n",
    "data.head()"
   ]
  },
  {
   "cell_type": "code",
   "execution_count": null,
   "metadata": {},
   "outputs": [],
   "source": [
    "data.info()"
   ]
  },
  {
   "cell_type": "code",
   "execution_count": null,
   "metadata": {},
   "outputs": [],
   "source": [
    "cols = ['SK_ID_CURR', 'TARGET']\n",
    "temp = missing_values_summary(data, ascending=False)\n",
    "temp[temp['index'].isin(cols)]"
   ]
  },
  {
   "cell_type": "code",
   "execution_count": null,
   "metadata": {},
   "outputs": [],
   "source": [
    "unique_value_counts(data, 'TARGET')"
   ]
  },
  {
   "cell_type": "code",
   "execution_count": null,
   "metadata": {},
   "outputs": [],
   "source": [
    "data['SK_ID_CURR'].nunique()"
   ]
  },
  {
   "attachments": {},
   "cell_type": "markdown",
   "metadata": {},
   "source": [
    "In the application_train dataset, there are 92% of the applications that are refused."
   ]
  },
  {
   "attachments": {},
   "cell_type": "markdown",
   "metadata": {},
   "source": [
    "## bureau"
   ]
  },
  {
   "cell_type": "code",
   "execution_count": null,
   "metadata": {},
   "outputs": [],
   "source": [
    "file = file_names[2]\n",
    "print(file)\n",
    "path = os.path.join('..','data', file)\n",
    "data = pd.read_csv(path)\n",
    "data.head()"
   ]
  },
  {
   "cell_type": "code",
   "execution_count": null,
   "metadata": {},
   "outputs": [],
   "source": [
    "data.info()"
   ]
  },
  {
   "cell_type": "code",
   "execution_count": null,
   "metadata": {},
   "outputs": [],
   "source": [
    "temp = missing_values_summary(data, ascending=False)\n",
    "temp"
   ]
  },
  {
   "cell_type": "code",
   "execution_count": null,
   "metadata": {},
   "outputs": [],
   "source": [
    "data['SK_ID_CURR'].nunique()"
   ]
  },
  {
   "attachments": {},
   "cell_type": "markdown",
   "metadata": {},
   "source": [
    "## bureau_balance"
   ]
  },
  {
   "cell_type": "code",
   "execution_count": null,
   "metadata": {},
   "outputs": [],
   "source": [
    "file = file_names[3]\n",
    "print(file)\n",
    "path = os.path.join('..','data', file)\n",
    "data = pd.read_csv(path)\n",
    "data.head()"
   ]
  },
  {
   "cell_type": "code",
   "execution_count": null,
   "metadata": {},
   "outputs": [],
   "source": [
    "data.info()"
   ]
  },
  {
   "cell_type": "code",
   "execution_count": null,
   "metadata": {},
   "outputs": [],
   "source": [
    "temp = missing_values_summary(data, ascending=False)\n",
    "temp"
   ]
  },
  {
   "attachments": {},
   "cell_type": "markdown",
   "metadata": {},
   "source": [
    "## credit_card_balance"
   ]
  },
  {
   "cell_type": "code",
   "execution_count": null,
   "metadata": {},
   "outputs": [],
   "source": [
    "file = file_names[4]\n",
    "print(file)\n",
    "path = os.path.join('..','data', file)\n",
    "data = pd.read_csv(path)\n",
    "data.head()"
   ]
  },
  {
   "cell_type": "code",
   "execution_count": null,
   "metadata": {},
   "outputs": [],
   "source": [
    "data.info()"
   ]
  },
  {
   "cell_type": "code",
   "execution_count": null,
   "metadata": {},
   "outputs": [],
   "source": [
    "temp = missing_values_summary(data, ascending=False)\n",
    "temp"
   ]
  },
  {
   "attachments": {},
   "cell_type": "markdown",
   "metadata": {},
   "source": [
    "## HomeCredit_columns_description"
   ]
  },
  {
   "cell_type": "code",
   "execution_count": null,
   "metadata": {},
   "outputs": [],
   "source": [
    "file = file_names[5]\n",
    "print(file)\n",
    "path = os.path.join('..','data', file)\n",
    "data = pd.read_csv(path, encoding = 'unicode_escape')\n",
    "data.head()"
   ]
  },
  {
   "cell_type": "code",
   "execution_count": null,
   "metadata": {},
   "outputs": [],
   "source": [
    "data.info()"
   ]
  },
  {
   "cell_type": "code",
   "execution_count": null,
   "metadata": {},
   "outputs": [],
   "source": [
    "temp = missing_values_summary(data, ascending=False)\n",
    "temp"
   ]
  },
  {
   "attachments": {},
   "cell_type": "markdown",
   "metadata": {},
   "source": [
    "## installments_payments"
   ]
  },
  {
   "cell_type": "code",
   "execution_count": null,
   "metadata": {},
   "outputs": [],
   "source": [
    "file = file_names[6]\n",
    "print(file)\n",
    "path = os.path.join('..','data', file)\n",
    "data = pd.read_csv(path)\n",
    "data.head()"
   ]
  },
  {
   "cell_type": "code",
   "execution_count": null,
   "metadata": {},
   "outputs": [],
   "source": [
    "data.info()"
   ]
  },
  {
   "cell_type": "code",
   "execution_count": null,
   "metadata": {},
   "outputs": [],
   "source": [
    "temp = missing_values_summary(data, ascending=False)\n",
    "temp"
   ]
  },
  {
   "attachments": {},
   "cell_type": "markdown",
   "metadata": {},
   "source": [
    "## POS_CASH_balance"
   ]
  },
  {
   "cell_type": "code",
   "execution_count": null,
   "metadata": {},
   "outputs": [],
   "source": [
    "file = file_names[7]\n",
    "print(file)\n",
    "path = os.path.join('..','data', file)\n",
    "data = pd.read_csv(path)\n",
    "data.head()"
   ]
  },
  {
   "cell_type": "code",
   "execution_count": null,
   "metadata": {},
   "outputs": [],
   "source": [
    "data.info()"
   ]
  },
  {
   "cell_type": "code",
   "execution_count": null,
   "metadata": {},
   "outputs": [],
   "source": [
    "temp = missing_values_summary(data, ascending=False)\n",
    "temp"
   ]
  },
  {
   "attachments": {},
   "cell_type": "markdown",
   "metadata": {},
   "source": [
    "## previous_application"
   ]
  },
  {
   "cell_type": "code",
   "execution_count": null,
   "metadata": {},
   "outputs": [],
   "source": [
    "file = file_names[8]\n",
    "print(file)\n",
    "path = os.path.join('..','data', file)\n",
    "data = pd.read_csv(path)\n",
    "data.head()"
   ]
  },
  {
   "cell_type": "code",
   "execution_count": null,
   "metadata": {},
   "outputs": [],
   "source": [
    "data.info()"
   ]
  },
  {
   "cell_type": "code",
   "execution_count": null,
   "metadata": {},
   "outputs": [],
   "source": [
    "temp = missing_values_summary(data, ascending=False)\n",
    "temp"
   ]
  },
  {
   "attachments": {},
   "cell_type": "markdown",
   "metadata": {},
   "source": [
    "## sample_submission"
   ]
  },
  {
   "cell_type": "code",
   "execution_count": null,
   "metadata": {},
   "outputs": [],
   "source": [
    "file = file_names[9]\n",
    "print(file)\n",
    "path = os.path.join('..','data', file)\n",
    "data = pd.read_csv(path)\n",
    "data.head()"
   ]
  },
  {
   "cell_type": "code",
   "execution_count": null,
   "metadata": {},
   "outputs": [],
   "source": [
    "data.info()"
   ]
  },
  {
   "cell_type": "code",
   "execution_count": null,
   "metadata": {},
   "outputs": [],
   "source": [
    "temp = missing_values_summary(data, ascending=False)\n",
    "temp"
   ]
  },
  {
   "cell_type": "code",
   "execution_count": null,
   "metadata": {},
   "outputs": [],
   "source": [
    "data['TARGET'].value_counts()"
   ]
  },
  {
   "attachments": {},
   "cell_type": "markdown",
   "metadata": {},
   "source": [
    "# Data preprocessing"
   ]
  },
  {
   "cell_type": "code",
   "execution_count": 6,
   "metadata": {},
   "outputs": [],
   "source": [
    "parent_dir = os.path.abspath('..')\n",
    "sys.path.insert(1, parent_dir)\n",
    "file_path = os.path.join(parent_dir, \"data\", \"data.csv\")"
   ]
  },
  {
   "cell_type": "code",
   "execution_count": 37,
   "metadata": {},
   "outputs": [
    {
     "name": "stdout",
     "output_type": "stream",
     "text": [
      "Bureau df shape: (305811, 116)\n",
      "Process bureau and bureau_balance - done in 35s\n",
      "Previous applications df shape: (338857, 249)\n",
      "Process previous_applications - done in 44s\n",
      "Pos-cash balance df shape: (337252, 18)\n",
      "Process POS-CASH balance - done in 23s\n",
      "Installments payments df shape: (339587, 26)\n",
      "Process installments payments - done in 54s\n",
      "Credit card balance df shape: (103558, 141)\n",
      "Process credit card balance - done in 30s\n"
     ]
    }
   ],
   "source": [
    "# data = LightGBM.main()\n",
    "# data.to_csv(file_path, index=False)"
   ]
  },
  {
   "cell_type": "code",
   "execution_count": 7,
   "metadata": {},
   "outputs": [
    {
     "data": {
      "text/html": [
       "<div>\n",
       "<style scoped>\n",
       "    .dataframe tbody tr th:only-of-type {\n",
       "        vertical-align: middle;\n",
       "    }\n",
       "\n",
       "    .dataframe tbody tr th {\n",
       "        vertical-align: top;\n",
       "    }\n",
       "\n",
       "    .dataframe thead th {\n",
       "        text-align: right;\n",
       "    }\n",
       "</style>\n",
       "<table border=\"1\" class=\"dataframe\">\n",
       "  <thead>\n",
       "    <tr style=\"text-align: right;\">\n",
       "      <th></th>\n",
       "      <th>SK_ID_CURR</th>\n",
       "      <th>TARGET</th>\n",
       "      <th>CODE_GENDER</th>\n",
       "      <th>FLAG_OWN_CAR</th>\n",
       "      <th>FLAG_OWN_REALTY</th>\n",
       "      <th>CNT_CHILDREN</th>\n",
       "      <th>AMT_INCOME_TOTAL</th>\n",
       "      <th>AMT_CREDIT</th>\n",
       "      <th>AMT_ANNUITY</th>\n",
       "      <th>AMT_GOODS_PRICE</th>\n",
       "      <th>...</th>\n",
       "      <th>CC_NAME_CONTRACT_STATUS_Signed_MAX</th>\n",
       "      <th>CC_NAME_CONTRACT_STATUS_Signed_MEAN</th>\n",
       "      <th>CC_NAME_CONTRACT_STATUS_Signed_SUM</th>\n",
       "      <th>CC_NAME_CONTRACT_STATUS_Signed_VAR</th>\n",
       "      <th>CC_NAME_CONTRACT_STATUS_nan_MIN</th>\n",
       "      <th>CC_NAME_CONTRACT_STATUS_nan_MAX</th>\n",
       "      <th>CC_NAME_CONTRACT_STATUS_nan_MEAN</th>\n",
       "      <th>CC_NAME_CONTRACT_STATUS_nan_SUM</th>\n",
       "      <th>CC_NAME_CONTRACT_STATUS_nan_VAR</th>\n",
       "      <th>CC_COUNT</th>\n",
       "    </tr>\n",
       "  </thead>\n",
       "  <tbody>\n",
       "    <tr>\n",
       "      <th>0</th>\n",
       "      <td>100002</td>\n",
       "      <td>1</td>\n",
       "      <td>0</td>\n",
       "      <td>0</td>\n",
       "      <td>0</td>\n",
       "      <td>0</td>\n",
       "      <td>202500.0</td>\n",
       "      <td>406597.5</td>\n",
       "      <td>24700.5</td>\n",
       "      <td>351000.0</td>\n",
       "      <td>...</td>\n",
       "      <td>NaN</td>\n",
       "      <td>NaN</td>\n",
       "      <td>NaN</td>\n",
       "      <td>NaN</td>\n",
       "      <td>NaN</td>\n",
       "      <td>NaN</td>\n",
       "      <td>NaN</td>\n",
       "      <td>NaN</td>\n",
       "      <td>NaN</td>\n",
       "      <td>NaN</td>\n",
       "    </tr>\n",
       "    <tr>\n",
       "      <th>1</th>\n",
       "      <td>100003</td>\n",
       "      <td>0</td>\n",
       "      <td>1</td>\n",
       "      <td>0</td>\n",
       "      <td>1</td>\n",
       "      <td>0</td>\n",
       "      <td>270000.0</td>\n",
       "      <td>1293502.5</td>\n",
       "      <td>35698.5</td>\n",
       "      <td>1129500.0</td>\n",
       "      <td>...</td>\n",
       "      <td>NaN</td>\n",
       "      <td>NaN</td>\n",
       "      <td>NaN</td>\n",
       "      <td>NaN</td>\n",
       "      <td>NaN</td>\n",
       "      <td>NaN</td>\n",
       "      <td>NaN</td>\n",
       "      <td>NaN</td>\n",
       "      <td>NaN</td>\n",
       "      <td>NaN</td>\n",
       "    </tr>\n",
       "    <tr>\n",
       "      <th>2</th>\n",
       "      <td>100004</td>\n",
       "      <td>0</td>\n",
       "      <td>0</td>\n",
       "      <td>1</td>\n",
       "      <td>0</td>\n",
       "      <td>0</td>\n",
       "      <td>67500.0</td>\n",
       "      <td>135000.0</td>\n",
       "      <td>6750.0</td>\n",
       "      <td>135000.0</td>\n",
       "      <td>...</td>\n",
       "      <td>NaN</td>\n",
       "      <td>NaN</td>\n",
       "      <td>NaN</td>\n",
       "      <td>NaN</td>\n",
       "      <td>NaN</td>\n",
       "      <td>NaN</td>\n",
       "      <td>NaN</td>\n",
       "      <td>NaN</td>\n",
       "      <td>NaN</td>\n",
       "      <td>NaN</td>\n",
       "    </tr>\n",
       "    <tr>\n",
       "      <th>3</th>\n",
       "      <td>100006</td>\n",
       "      <td>0</td>\n",
       "      <td>1</td>\n",
       "      <td>0</td>\n",
       "      <td>0</td>\n",
       "      <td>0</td>\n",
       "      <td>135000.0</td>\n",
       "      <td>312682.5</td>\n",
       "      <td>29686.5</td>\n",
       "      <td>297000.0</td>\n",
       "      <td>...</td>\n",
       "      <td>0.0</td>\n",
       "      <td>0.0</td>\n",
       "      <td>0.0</td>\n",
       "      <td>0.0</td>\n",
       "      <td>0.0</td>\n",
       "      <td>0.0</td>\n",
       "      <td>0.0</td>\n",
       "      <td>0.0</td>\n",
       "      <td>0.0</td>\n",
       "      <td>6.0</td>\n",
       "    </tr>\n",
       "    <tr>\n",
       "      <th>4</th>\n",
       "      <td>100007</td>\n",
       "      <td>0</td>\n",
       "      <td>0</td>\n",
       "      <td>0</td>\n",
       "      <td>0</td>\n",
       "      <td>0</td>\n",
       "      <td>121500.0</td>\n",
       "      <td>513000.0</td>\n",
       "      <td>21865.5</td>\n",
       "      <td>513000.0</td>\n",
       "      <td>...</td>\n",
       "      <td>NaN</td>\n",
       "      <td>NaN</td>\n",
       "      <td>NaN</td>\n",
       "      <td>NaN</td>\n",
       "      <td>NaN</td>\n",
       "      <td>NaN</td>\n",
       "      <td>NaN</td>\n",
       "      <td>NaN</td>\n",
       "      <td>NaN</td>\n",
       "      <td>NaN</td>\n",
       "    </tr>\n",
       "  </tbody>\n",
       "</table>\n",
       "<p>5 rows × 797 columns</p>\n",
       "</div>"
      ],
      "text/plain": [
       "   SK_ID_CURR  TARGET  CODE_GENDER  FLAG_OWN_CAR  FLAG_OWN_REALTY  \\\n",
       "0      100002       1            0             0                0   \n",
       "1      100003       0            1             0                1   \n",
       "2      100004       0            0             1                0   \n",
       "3      100006       0            1             0                0   \n",
       "4      100007       0            0             0                0   \n",
       "\n",
       "   CNT_CHILDREN  AMT_INCOME_TOTAL  AMT_CREDIT  AMT_ANNUITY  AMT_GOODS_PRICE  \\\n",
       "0             0          202500.0    406597.5      24700.5         351000.0   \n",
       "1             0          270000.0   1293502.5      35698.5        1129500.0   \n",
       "2             0           67500.0    135000.0       6750.0         135000.0   \n",
       "3             0          135000.0    312682.5      29686.5         297000.0   \n",
       "4             0          121500.0    513000.0      21865.5         513000.0   \n",
       "\n",
       "   ...  CC_NAME_CONTRACT_STATUS_Signed_MAX  \\\n",
       "0  ...                                 NaN   \n",
       "1  ...                                 NaN   \n",
       "2  ...                                 NaN   \n",
       "3  ...                                 0.0   \n",
       "4  ...                                 NaN   \n",
       "\n",
       "   CC_NAME_CONTRACT_STATUS_Signed_MEAN  CC_NAME_CONTRACT_STATUS_Signed_SUM  \\\n",
       "0                                  NaN                                 NaN   \n",
       "1                                  NaN                                 NaN   \n",
       "2                                  NaN                                 NaN   \n",
       "3                                  0.0                                 0.0   \n",
       "4                                  NaN                                 NaN   \n",
       "\n",
       "   CC_NAME_CONTRACT_STATUS_Signed_VAR  CC_NAME_CONTRACT_STATUS_nan_MIN  \\\n",
       "0                                 NaN                              NaN   \n",
       "1                                 NaN                              NaN   \n",
       "2                                 NaN                              NaN   \n",
       "3                                 0.0                              0.0   \n",
       "4                                 NaN                              NaN   \n",
       "\n",
       "   CC_NAME_CONTRACT_STATUS_nan_MAX  CC_NAME_CONTRACT_STATUS_nan_MEAN  \\\n",
       "0                              NaN                               NaN   \n",
       "1                              NaN                               NaN   \n",
       "2                              NaN                               NaN   \n",
       "3                              0.0                               0.0   \n",
       "4                              NaN                               NaN   \n",
       "\n",
       "   CC_NAME_CONTRACT_STATUS_nan_SUM  CC_NAME_CONTRACT_STATUS_nan_VAR  CC_COUNT  \n",
       "0                              NaN                              NaN       NaN  \n",
       "1                              NaN                              NaN       NaN  \n",
       "2                              NaN                              NaN       NaN  \n",
       "3                              0.0                              0.0       6.0  \n",
       "4                              NaN                              NaN       NaN  \n",
       "\n",
       "[5 rows x 797 columns]"
      ]
     },
     "execution_count": 7,
     "metadata": {},
     "output_type": "execute_result"
    }
   ],
   "source": [
    "data = pd.read_csv(file_path)\n",
    "data.head()"
   ]
  },
  {
   "cell_type": "markdown",
   "metadata": {},
   "source": [
    "## Missing data"
   ]
  },
  {
   "cell_type": "code",
   "execution_count": 8,
   "metadata": {},
   "outputs": [
    {
     "data": {
      "text/plain": [
       "<AxesSubplot: xlabel='Percentage_Null', ylabel='Count'>"
      ]
     },
     "execution_count": 8,
     "metadata": {},
     "output_type": "execute_result"
    },
    {
     "data": {
      "image/png": "[encoded data removed]",
      "text/plain": [
       "<Figure size 640x480 with 1 Axes>"
      ]
     },
     "metadata": {},
     "output_type": "display_data"
    }
   ],
   "source": [
    "temp = missing_values_summary(data, ascending=False)\n",
    "temp['Percentage_Null'] = temp['Percentage_Null'].apply(lambda x: round(x,0))\n",
    "sns.histplot(temp['Percentage_Null'], kde=True)"
   ]
  },
  {
   "cell_type": "code",
   "execution_count": 9,
   "metadata": {},
   "outputs": [
    {
     "data": {
      "image/png": "[encoded data removed]",
      "text/plain": [
       "<Figure size 640x480 with 1 Axes>"
      ]
     },
     "metadata": {},
     "output_type": "display_data"
    }
   ],
   "source": [
    "temp['pct_null_buckets'] = temp['Percentage_Null'].apply(lambda x: pct_null_buckets(x))\n",
    "\n",
    "ax = sns.countplot(x=temp['pct_null_buckets'],\n",
    "                   order=temp['pct_null_buckets'].value_counts(ascending=False).index)\n",
    "abs_values = temp['pct_null_buckets'].value_counts(ascending=False).values\n",
    "ax.bar_label(container=ax.containers[0], labels=abs_values)\n",
    "plt.xticks(rotation=90);"
   ]
  },
  {
   "cell_type": "code",
   "execution_count": 10,
   "metadata": {},
   "outputs": [
    {
     "name": "stdout",
     "output_type": "stream",
     "text": [
      "253\n",
      "797\n",
      "544\n"
     ]
    }
   ],
   "source": [
    "cols_to_drop = list(temp[temp['Percentage_Null'] > 30]['index'])\n",
    "cols = list(data.columns)\n",
    "cols_to_keep = [col for col in cols if col not in cols_to_drop]\n",
    "\n",
    "print(len(cols_to_drop))\n",
    "print(len(cols))\n",
    "print(len(cols_to_keep))"
   ]
  },
  {
   "cell_type": "code",
   "execution_count": 11,
   "metadata": {},
   "outputs": [
    {
     "data": {
      "text/plain": [
       "(307507, 544)"
      ]
     },
     "execution_count": 11,
     "metadata": {},
     "output_type": "execute_result"
    }
   ],
   "source": [
    "df = data.copy()\n",
    "df = df[cols_to_keep]\n",
    "df.shape"
   ]
  },
  {
   "cell_type": "markdown",
   "metadata": {},
   "source": [
    "## Descriptive statistics"
   ]
  },
  {
   "cell_type": "code",
   "execution_count": 12,
   "metadata": {},
   "outputs": [
    {
     "data": {
      "text/plain": [
       "inf"
      ]
     },
     "execution_count": 12,
     "metadata": {},
     "output_type": "execute_result"
    }
   ],
   "source": [
    "temp = df.describe()\n",
    "temp.loc['max'].max()"
   ]
  },
  {
   "cell_type": "code",
   "execution_count": 13,
   "metadata": {},
   "outputs": [],
   "source": [
    "df.replace([np.inf, -np.inf], np.nan, inplace=True)"
   ]
  },
  {
   "cell_type": "code",
   "execution_count": 14,
   "metadata": {},
   "outputs": [
    {
     "data": {
      "text/plain": [
       "445993643959.2246"
      ]
     },
     "execution_count": 14,
     "metadata": {},
     "output_type": "execute_result"
    }
   ],
   "source": [
    "temp = df.describe()\n",
    "temp.loc['max'].max()"
   ]
  },
  {
   "cell_type": "code",
   "execution_count": 15,
   "metadata": {},
   "outputs": [
    {
     "data": {
      "text/html": [
       "<div>\n",
       "<style scoped>\n",
       "    .dataframe tbody tr th:only-of-type {\n",
       "        vertical-align: middle;\n",
       "    }\n",
       "\n",
       "    .dataframe tbody tr th {\n",
       "        vertical-align: top;\n",
       "    }\n",
       "\n",
       "    .dataframe thead th {\n",
       "        text-align: right;\n",
       "    }\n",
       "</style>\n",
       "<table border=\"1\" class=\"dataframe\">\n",
       "  <thead>\n",
       "    <tr style=\"text-align: right;\">\n",
       "      <th></th>\n",
       "      <th>index</th>\n",
       "      <th>Null_counts</th>\n",
       "      <th>Non_Null_counts</th>\n",
       "      <th>Percentage_Null</th>\n",
       "    </tr>\n",
       "  </thead>\n",
       "  <tbody>\n",
       "    <tr>\n",
       "      <th>255</th>\n",
       "      <td>ACTIVE_AMT_CREDIT_SUM_MAX</td>\n",
       "      <td>90362</td>\n",
       "      <td>217145</td>\n",
       "      <td>29.385347</td>\n",
       "    </tr>\n",
       "    <tr>\n",
       "      <th>256</th>\n",
       "      <td>ACTIVE_AMT_CREDIT_SUM_MEAN</td>\n",
       "      <td>90362</td>\n",
       "      <td>217145</td>\n",
       "      <td>29.385347</td>\n",
       "    </tr>\n",
       "    <tr>\n",
       "      <th>260</th>\n",
       "      <td>ACTIVE_AMT_CREDIT_SUM_LIMIT_SUM</td>\n",
       "      <td>90361</td>\n",
       "      <td>217146</td>\n",
       "      <td>29.385022</td>\n",
       "    </tr>\n",
       "    <tr>\n",
       "      <th>262</th>\n",
       "      <td>ACTIVE_MONTHS_BALANCE_SIZE_SUM</td>\n",
       "      <td>90361</td>\n",
       "      <td>217146</td>\n",
       "      <td>29.385022</td>\n",
       "    </tr>\n",
       "    <tr>\n",
       "      <th>249</th>\n",
       "      <td>ACTIVE_DAYS_CREDIT_MIN</td>\n",
       "      <td>90361</td>\n",
       "      <td>217146</td>\n",
       "      <td>29.385022</td>\n",
       "    </tr>\n",
       "    <tr>\n",
       "      <th>...</th>\n",
       "      <td>...</td>\n",
       "      <td>...</td>\n",
       "      <td>...</td>\n",
       "      <td>...</td>\n",
       "    </tr>\n",
       "    <tr>\n",
       "      <th>134</th>\n",
       "      <td>ORGANIZATION_TYPE_Government</td>\n",
       "      <td>0</td>\n",
       "      <td>307507</td>\n",
       "      <td>0.000000</td>\n",
       "    </tr>\n",
       "    <tr>\n",
       "      <th>133</th>\n",
       "      <td>ORGANIZATION_TYPE_Emergency</td>\n",
       "      <td>0</td>\n",
       "      <td>307507</td>\n",
       "      <td>0.000000</td>\n",
       "    </tr>\n",
       "    <tr>\n",
       "      <th>132</th>\n",
       "      <td>ORGANIZATION_TYPE_Electricity</td>\n",
       "      <td>0</td>\n",
       "      <td>307507</td>\n",
       "      <td>0.000000</td>\n",
       "    </tr>\n",
       "    <tr>\n",
       "      <th>131</th>\n",
       "      <td>ORGANIZATION_TYPE_Culture</td>\n",
       "      <td>0</td>\n",
       "      <td>307507</td>\n",
       "      <td>0.000000</td>\n",
       "    </tr>\n",
       "    <tr>\n",
       "      <th>0</th>\n",
       "      <td>SK_ID_CURR</td>\n",
       "      <td>0</td>\n",
       "      <td>307507</td>\n",
       "      <td>0.000000</td>\n",
       "    </tr>\n",
       "  </tbody>\n",
       "</table>\n",
       "<p>544 rows × 4 columns</p>\n",
       "</div>"
      ],
      "text/plain": [
       "                               index  Null_counts  Non_Null_counts  \\\n",
       "255        ACTIVE_AMT_CREDIT_SUM_MAX        90362           217145   \n",
       "256       ACTIVE_AMT_CREDIT_SUM_MEAN        90362           217145   \n",
       "260  ACTIVE_AMT_CREDIT_SUM_LIMIT_SUM        90361           217146   \n",
       "262   ACTIVE_MONTHS_BALANCE_SIZE_SUM        90361           217146   \n",
       "249           ACTIVE_DAYS_CREDIT_MIN        90361           217146   \n",
       "..                               ...          ...              ...   \n",
       "134     ORGANIZATION_TYPE_Government            0           307507   \n",
       "133      ORGANIZATION_TYPE_Emergency            0           307507   \n",
       "132    ORGANIZATION_TYPE_Electricity            0           307507   \n",
       "131        ORGANIZATION_TYPE_Culture            0           307507   \n",
       "0                         SK_ID_CURR            0           307507   \n",
       "\n",
       "     Percentage_Null  \n",
       "255        29.385347  \n",
       "256        29.385347  \n",
       "260        29.385022  \n",
       "262        29.385022  \n",
       "249        29.385022  \n",
       "..               ...  \n",
       "134         0.000000  \n",
       "133         0.000000  \n",
       "132         0.000000  \n",
       "131         0.000000  \n",
       "0           0.000000  \n",
       "\n",
       "[544 rows x 4 columns]"
      ]
     },
     "execution_count": 15,
     "metadata": {},
     "output_type": "execute_result"
    }
   ],
   "source": [
    "missing_values_summary(df, ascending=False)"
   ]
  },
  {
   "attachments": {},
   "cell_type": "markdown",
   "metadata": {},
   "source": [
    "## Data"
   ]
  },
  {
   "cell_type": "code",
   "execution_count": 16,
   "metadata": {},
   "outputs": [],
   "source": [
    "X = df.drop(columns=['TARGET'])\n",
    "y = df['TARGET']"
   ]
  },
  {
   "cell_type": "markdown",
   "metadata": {},
   "source": [
    "# Simulation"
   ]
  },
  {
   "cell_type": "markdown",
   "metadata": {},
   "source": [
    "## Dummy"
   ]
  },
  {
   "cell_type": "code",
   "execution_count": 18,
   "metadata": {},
   "outputs": [],
   "source": [
    "imputer = SimpleImputer(strategy=\"mean\")\n",
    "imputer.fit(X)\n",
    "X_imputer = imputer.transform(X)\n",
    "\n",
    "dummy = DummyClassifier(strategy=\"most_frequent\")\n",
    "dummy.fit(X_imputer, y)\n",
    "dummy.predict(X_imputer)\n",
    "dummy.score(X_imputer, y)\n",
    "\n",
    "# from mlflow import log_metric,\n",
    "# log_metric(\"dummy_accuracy\", dummy.score(X_imputer, y))"
   ]
  },
  {
   "cell_type": "markdown",
   "metadata": {},
   "source": [
    "## LGBM"
   ]
  },
  {
   "cell_type": "code",
   "execution_count": 48,
   "metadata": {},
   "outputs": [
    {
     "data": {
      "text/html": [
       "<style>#sk-container-id-2 {color: black;background-color: white;}#sk-container-id-2 pre{padding: 0;}#sk-container-id-2 div.sk-toggleable {background-color: white;}#sk-container-id-2 label.sk-toggleable__label {cursor: pointer;display: block;width: 100%;margin-bottom: 0;padding: 0.3em;box-sizing: border-box;text-align: center;}#sk-container-id-2 label.sk-toggleable__label-arrow:before {content: \"▸\";float: left;margin-right: 0.25em;color: #696969;}#sk-container-id-2 label.sk-toggleable__label-arrow:hover:before {color: black;}#sk-container-id-2 div.sk-estimator:hover label.sk-toggleable__label-arrow:before {color: black;}#sk-container-id-2 div.sk-toggleable__content {max-height: 0;max-width: 0;overflow: hidden;text-align: left;background-color: #f0f8ff;}#sk-container-id-2 div.sk-toggleable__content pre {margin: 0.2em;color: black;border-radius: 0.25em;background-color: #f0f8ff;}#sk-container-id-2 input.sk-toggleable__control:checked~div.sk-toggleable__content {max-height: 200px;max-width: 100%;overflow: auto;}#sk-container-id-2 input.sk-toggleable__control:checked~label.sk-toggleable__label-arrow:before {content: \"▾\";}#sk-container-id-2 div.sk-estimator input.sk-toggleable__control:checked~label.sk-toggleable__label {background-color: #d4ebff;}#sk-container-id-2 div.sk-label input.sk-toggleable__control:checked~label.sk-toggleable__label {background-color: #d4ebff;}#sk-container-id-2 input.sk-hidden--visually {border: 0;clip: rect(1px 1px 1px 1px);clip: rect(1px, 1px, 1px, 1px);height: 1px;margin: -1px;overflow: hidden;padding: 0;position: absolute;width: 1px;}#sk-container-id-2 div.sk-estimator {font-family: monospace;background-color: #f0f8ff;border: 1px dotted black;border-radius: 0.25em;box-sizing: border-box;margin-bottom: 0.5em;}#sk-container-id-2 div.sk-estimator:hover {background-color: #d4ebff;}#sk-container-id-2 div.sk-parallel-item::after {content: \"\";width: 100%;border-bottom: 1px solid gray;flex-grow: 1;}#sk-container-id-2 div.sk-label:hover label.sk-toggleable__label {background-color: #d4ebff;}#sk-container-id-2 div.sk-serial::before {content: \"\";position: absolute;border-left: 1px solid gray;box-sizing: border-box;top: 0;bottom: 0;left: 50%;z-index: 0;}#sk-container-id-2 div.sk-serial {display: flex;flex-direction: column;align-items: center;background-color: white;padding-right: 0.2em;padding-left: 0.2em;position: relative;}#sk-container-id-2 div.sk-item {position: relative;z-index: 1;}#sk-container-id-2 div.sk-parallel {display: flex;align-items: stretch;justify-content: center;background-color: white;position: relative;}#sk-container-id-2 div.sk-item::before, #sk-container-id-2 div.sk-parallel-item::before {content: \"\";position: absolute;border-left: 1px solid gray;box-sizing: border-box;top: 0;bottom: 0;left: 50%;z-index: -1;}#sk-container-id-2 div.sk-parallel-item {display: flex;flex-direction: column;z-index: 1;position: relative;background-color: white;}#sk-container-id-2 div.sk-parallel-item:first-child::after {align-self: flex-end;width: 50%;}#sk-container-id-2 div.sk-parallel-item:last-child::after {align-self: flex-start;width: 50%;}#sk-container-id-2 div.sk-parallel-item:only-child::after {width: 0;}#sk-container-id-2 div.sk-dashed-wrapped {border: 1px dashed gray;margin: 0 0.4em 0.5em 0.4em;box-sizing: border-box;padding-bottom: 0.4em;background-color: white;}#sk-container-id-2 div.sk-label label {font-family: monospace;font-weight: bold;display: inline-block;line-height: 1.2em;}#sk-container-id-2 div.sk-label-container {text-align: center;}#sk-container-id-2 div.sk-container {/* jupyter's `normalize.less` sets `[hidden] { display: none; }` but bootstrap.min.css set `[hidden] { display: none !important; }` so we also need the `!important` here to be able to override the default hidden behavior on the sphinx rendered scikit-learn.org. See: https://github.com/scikit-learn/scikit-learn/issues/21755 */display: inline-block !important;position: relative;}#sk-container-id-2 div.sk-text-repr-fallback {display: none;}</style><div id=\"sk-container-id-2\" class=\"sk-top-container\"><div class=\"sk-text-repr-fallback\"><pre>GridSearchCV(cv=5,\n",
       "             estimator=Pipeline(steps=[(&#x27;imputer&#x27;, SimpleImputer()),\n",
       "                                       (&#x27;smote&#x27;, SMOTE()),\n",
       "                                       (&#x27;model&#x27;, LGBMClassifier())]),\n",
       "             n_jobs=-1,\n",
       "             param_grid={&#x27;imputer__strategy&#x27;: [&#x27;mean&#x27;],\n",
       "                         &#x27;model__n_estimators&#x27;: [100],\n",
       "                         &#x27;smote__sampling_strategy&#x27;: [0.1]},\n",
       "             refit=&#x27;score_fbeta&#x27;,\n",
       "             scoring={&#x27;score_accuracy&#x27;: &#x27;accuracy&#x27;,\n",
       "                      &#x27;score_fbeta&#x27;: make_scorer(fbeta_score, beta=0.5),\n",
       "                      &#x27;score_roc_auc&#x27;: &#x27;roc_auc&#x27;})</pre><b>In a Jupyter environment, please rerun this cell to show the HTML representation or trust the notebook. <br />On GitHub, the HTML representation is unable to render, please try loading this page with nbviewer.org.</b></div><div class=\"sk-container\" hidden><div class=\"sk-item sk-dashed-wrapped\"><div class=\"sk-label-container\"><div class=\"sk-label sk-toggleable\"><input class=\"sk-toggleable__control sk-hidden--visually\" id=\"sk-estimator-id-6\" type=\"checkbox\" ><label for=\"sk-estimator-id-6\" class=\"sk-toggleable__label sk-toggleable__label-arrow\">GridSearchCV</label><div class=\"sk-toggleable__content\"><pre>GridSearchCV(cv=5,\n",
       "             estimator=Pipeline(steps=[(&#x27;imputer&#x27;, SimpleImputer()),\n",
       "                                       (&#x27;smote&#x27;, SMOTE()),\n",
       "                                       (&#x27;model&#x27;, LGBMClassifier())]),\n",
       "             n_jobs=-1,\n",
       "             param_grid={&#x27;imputer__strategy&#x27;: [&#x27;mean&#x27;],\n",
       "                         &#x27;model__n_estimators&#x27;: [100],\n",
       "                         &#x27;smote__sampling_strategy&#x27;: [0.1]},\n",
       "             refit=&#x27;score_fbeta&#x27;,\n",
       "             scoring={&#x27;score_accuracy&#x27;: &#x27;accuracy&#x27;,\n",
       "                      &#x27;score_fbeta&#x27;: make_scorer(fbeta_score, beta=0.5),\n",
       "                      &#x27;score_roc_auc&#x27;: &#x27;roc_auc&#x27;})</pre></div></div></div><div class=\"sk-parallel\"><div class=\"sk-parallel-item\"><div class=\"sk-item\"><div class=\"sk-label-container\"><div class=\"sk-label sk-toggleable\"><input class=\"sk-toggleable__control sk-hidden--visually\" id=\"sk-estimator-id-7\" type=\"checkbox\" ><label for=\"sk-estimator-id-7\" class=\"sk-toggleable__label sk-toggleable__label-arrow\">estimator: Pipeline</label><div class=\"sk-toggleable__content\"><pre>Pipeline(steps=[(&#x27;imputer&#x27;, SimpleImputer()), (&#x27;smote&#x27;, SMOTE()),\n",
       "                (&#x27;model&#x27;, LGBMClassifier())])</pre></div></div></div><div class=\"sk-serial\"><div class=\"sk-item\"><div class=\"sk-serial\"><div class=\"sk-item\"><div class=\"sk-estimator sk-toggleable\"><input class=\"sk-toggleable__control sk-hidden--visually\" id=\"sk-estimator-id-8\" type=\"checkbox\" ><label for=\"sk-estimator-id-8\" class=\"sk-toggleable__label sk-toggleable__label-arrow\">SimpleImputer</label><div class=\"sk-toggleable__content\"><pre>SimpleImputer()</pre></div></div></div><div class=\"sk-item\"><div class=\"sk-estimator sk-toggleable\"><input class=\"sk-toggleable__control sk-hidden--visually\" id=\"sk-estimator-id-9\" type=\"checkbox\" ><label for=\"sk-estimator-id-9\" class=\"sk-toggleable__label sk-toggleable__label-arrow\">SMOTE</label><div class=\"sk-toggleable__content\"><pre>SMOTE()</pre></div></div></div><div class=\"sk-item\"><div class=\"sk-estimator sk-toggleable\"><input class=\"sk-toggleable__control sk-hidden--visually\" id=\"sk-estimator-id-10\" type=\"checkbox\" ><label for=\"sk-estimator-id-10\" class=\"sk-toggleable__label sk-toggleable__label-arrow\">LGBMClassifier</label><div class=\"sk-toggleable__content\"><pre>LGBMClassifier()</pre></div></div></div></div></div></div></div></div></div></div></div></div>"
      ],
      "text/plain": [
       "GridSearchCV(cv=5,\n",
       "             estimator=Pipeline(steps=[('imputer', SimpleImputer()),\n",
       "                                       ('smote', SMOTE()),\n",
       "                                       ('model', LGBMClassifier())]),\n",
       "             n_jobs=-1,\n",
       "             param_grid={'imputer__strategy': ['mean'],\n",
       "                         'model__n_estimators': [100],\n",
       "                         'smote__sampling_strategy': [0.1]},\n",
       "             refit='score_fbeta',\n",
       "             scoring={'score_accuracy': 'accuracy',\n",
       "                      'score_fbeta': make_scorer(fbeta_score, beta=0.5),\n",
       "                      'score_roc_auc': 'roc_auc'})"
      ]
     },
     "execution_count": 48,
     "metadata": {},
     "output_type": "execute_result"
    }
   ],
   "source": [
    "pipe = Pipeline([\n",
    "    ('imputer', SimpleImputer()),\n",
    "    ('smote', SMOTE()),\n",
    "    ('model', LGBMClassifier()),\n",
    "])\n",
    "\n",
    "grid = {\n",
    "    'imputer__strategy': [\"mean\"],\n",
    "    'smote__sampling_strategy': [0.1],\n",
    "    'model__n_estimators': [100]\n",
    "}\n",
    "\n",
    "scorers = {\n",
    "    'score_accuracy': 'accuracy',\n",
    "    'score_roc_auc': 'roc_auc',\n",
    "    'score_fbeta': make_scorer(fbeta_score, beta=0.5, greater_is_better=False)\n",
    "}\n",
    "\n",
    "search = GridSearchCV(pipe, grid, scoring=scorers, refit='score_fbeta', cv=5, n_jobs=-1)\n",
    "search.fit(X, y)"
   ]
  },
  {
   "cell_type": "code",
   "execution_count": 69,
   "metadata": {},
   "outputs": [
    {
     "name": "stderr",
     "output_type": "stream",
     "text": [
      "2023/01/20 18:51:21 INFO mlflow.tracking.fluent: Experiment with name 'LGBMClassifier()_Fri-Jan-20-18:51:21-2023' does not exist. Creating a new experiment.\n"
     ]
    },
    {
     "name": "stdout",
     "output_type": "stream",
     "text": [
      "Run is logged\n"
     ]
    }
   ],
   "source": [
    "# MLflow\n",
    "log_model(search)"
   ]
  },
  {
   "cell_type": "code",
   "execution_count": 62,
   "metadata": {},
   "outputs": [
    {
     "data": {
      "text/plain": [
       "array([[0.77352165, 0.22647835],\n",
       "       [0.98655735, 0.01344265],\n",
       "       [0.94348043, 0.05651957],\n",
       "       ...,\n",
       "       [0.92373581, 0.07626419],\n",
       "       [0.9339073 , 0.0660927 ],\n",
       "       [0.8778682 , 0.1221318 ]])"
      ]
     },
     "execution_count": 62,
     "metadata": {},
     "output_type": "execute_result"
    }
   ],
   "source": [
    "y_pred_prob = search.predict_proba(X)\n",
    "y_pred_prob"
   ]
  },
  {
   "cell_type": "markdown",
   "metadata": {},
   "source": [
    "## Catboost"
   ]
  },
  {
   "cell_type": "code",
   "execution_count": 72,
   "metadata": {},
   "outputs": [
    {
     "name": "stdout",
     "output_type": "stream",
     "text": [
      "Learning rate set to 0.5\n",
      "0:\tlearn: 0.3685137\ttotal: 564ms\tremaining: 55.8s\n",
      "1:\tlearn: 0.2984781\ttotal: 999ms\tremaining: 48.9s\n",
      "2:\tlearn: 0.2765660\ttotal: 1.5s\tremaining: 48.4s\n",
      "3:\tlearn: 0.2652020\ttotal: 1.93s\tremaining: 46.4s\n",
      "4:\tlearn: 0.2586937\ttotal: 2.31s\tremaining: 43.9s\n",
      "5:\tlearn: 0.2551739\ttotal: 2.73s\tremaining: 42.7s\n",
      "6:\tlearn: 0.2530006\ttotal: 3.28s\tremaining: 43.6s\n",
      "7:\tlearn: 0.2505423\ttotal: 3.83s\tremaining: 44s\n",
      "8:\tlearn: 0.2494078\ttotal: 4.2s\tremaining: 42.5s\n",
      "9:\tlearn: 0.2481164\ttotal: 4.65s\tremaining: 41.8s\n",
      "10:\tlearn: 0.2465387\ttotal: 5.12s\tremaining: 41.4s\n",
      "11:\tlearn: 0.2458942\ttotal: 5.5s\tremaining: 40.4s\n",
      "12:\tlearn: 0.2453789\ttotal: 5.9s\tremaining: 39.5s\n",
      "13:\tlearn: 0.2448555\ttotal: 6.42s\tremaining: 39.4s\n",
      "14:\tlearn: 0.2444693\ttotal: 6.8s\tremaining: 38.5s\n",
      "15:\tlearn: 0.2432717\ttotal: 7.38s\tremaining: 38.7s\n",
      "16:\tlearn: 0.2426832\ttotal: 7.78s\tremaining: 38s\n",
      "17:\tlearn: 0.2422207\ttotal: 8.18s\tremaining: 37.3s\n",
      "18:\tlearn: 0.2419660\ttotal: 8.64s\tremaining: 36.8s\n",
      "19:\tlearn: 0.2416337\ttotal: 9.07s\tremaining: 36.3s\n",
      "20:\tlearn: 0.2413951\ttotal: 9.45s\tremaining: 35.6s\n",
      "21:\tlearn: 0.2408941\ttotal: 10.1s\tremaining: 35.6s\n",
      "22:\tlearn: 0.2400989\ttotal: 10.4s\tremaining: 34.8s\n",
      "23:\tlearn: 0.2397399\ttotal: 10.8s\tremaining: 34.3s\n",
      "24:\tlearn: 0.2394607\ttotal: 11.2s\tremaining: 33.7s\n",
      "25:\tlearn: 0.2391932\ttotal: 11.6s\tremaining: 32.9s\n",
      "26:\tlearn: 0.2388356\ttotal: 12.1s\tremaining: 32.6s\n",
      "27:\tlearn: 0.2385609\ttotal: 12.4s\tremaining: 31.9s\n",
      "28:\tlearn: 0.2382519\ttotal: 12.9s\tremaining: 31.5s\n",
      "29:\tlearn: 0.2379311\ttotal: 13.2s\tremaining: 30.9s\n",
      "30:\tlearn: 0.2376488\ttotal: 13.6s\tremaining: 30.3s\n",
      "31:\tlearn: 0.2373718\ttotal: 14s\tremaining: 29.8s\n",
      "32:\tlearn: 0.2371034\ttotal: 14.4s\tremaining: 29.2s\n",
      "33:\tlearn: 0.2368484\ttotal: 14.7s\tremaining: 28.6s\n",
      "34:\tlearn: 0.2366198\ttotal: 15.2s\tremaining: 28.2s\n",
      "35:\tlearn: 0.2362461\ttotal: 15.8s\tremaining: 28s\n",
      "36:\tlearn: 0.2360864\ttotal: 16.1s\tremaining: 27.4s\n",
      "37:\tlearn: 0.2357943\ttotal: 16.5s\tremaining: 27s\n",
      "38:\tlearn: 0.2356386\ttotal: 16.9s\tremaining: 26.4s\n",
      "39:\tlearn: 0.2354349\ttotal: 17.2s\tremaining: 25.7s\n",
      "40:\tlearn: 0.2352079\ttotal: 17.5s\tremaining: 25.2s\n",
      "41:\tlearn: 0.2349959\ttotal: 17.9s\tremaining: 24.7s\n",
      "42:\tlearn: 0.2347959\ttotal: 18.3s\tremaining: 24.3s\n",
      "43:\tlearn: 0.2346062\ttotal: 18.7s\tremaining: 23.7s\n",
      "44:\tlearn: 0.2342193\ttotal: 19.1s\tremaining: 23.4s\n",
      "45:\tlearn: 0.2340068\ttotal: 19.5s\tremaining: 22.9s\n",
      "46:\tlearn: 0.2337645\ttotal: 19.8s\tremaining: 22.4s\n",
      "47:\tlearn: 0.2336332\ttotal: 20.1s\tremaining: 21.7s\n",
      "48:\tlearn: 0.2334555\ttotal: 20.4s\tremaining: 21.3s\n",
      "49:\tlearn: 0.2332302\ttotal: 20.8s\tremaining: 20.8s\n",
      "50:\tlearn: 0.2329567\ttotal: 21.1s\tremaining: 20.3s\n",
      "51:\tlearn: 0.2328777\ttotal: 21.4s\tremaining: 19.8s\n",
      "52:\tlearn: 0.2326785\ttotal: 21.9s\tremaining: 19.4s\n",
      "53:\tlearn: 0.2324938\ttotal: 22.2s\tremaining: 18.9s\n",
      "54:\tlearn: 0.2323703\ttotal: 22.5s\tremaining: 18.4s\n",
      "55:\tlearn: 0.2321994\ttotal: 22.9s\tremaining: 18s\n",
      "56:\tlearn: 0.2319891\ttotal: 23.3s\tremaining: 17.5s\n",
      "57:\tlearn: 0.2318161\ttotal: 23.6s\tremaining: 17.1s\n",
      "58:\tlearn: 0.2316591\ttotal: 23.9s\tremaining: 16.6s\n",
      "59:\tlearn: 0.2314950\ttotal: 24.3s\tremaining: 16.2s\n",
      "60:\tlearn: 0.2313352\ttotal: 24.6s\tremaining: 15.7s\n",
      "61:\tlearn: 0.2311788\ttotal: 24.9s\tremaining: 15.3s\n",
      "62:\tlearn: 0.2310180\ttotal: 25.3s\tremaining: 14.8s\n",
      "63:\tlearn: 0.2308411\ttotal: 25.6s\tremaining: 14.4s\n",
      "64:\tlearn: 0.2306128\ttotal: 26s\tremaining: 14s\n",
      "65:\tlearn: 0.2304396\ttotal: 26.4s\tremaining: 13.6s\n",
      "66:\tlearn: 0.2302362\ttotal: 26.7s\tremaining: 13.2s\n",
      "67:\tlearn: 0.2300803\ttotal: 27s\tremaining: 12.7s\n",
      "68:\tlearn: 0.2299026\ttotal: 27.4s\tremaining: 12.3s\n",
      "69:\tlearn: 0.2296890\ttotal: 27.8s\tremaining: 11.9s\n",
      "70:\tlearn: 0.2294817\ttotal: 28.1s\tremaining: 11.5s\n",
      "71:\tlearn: 0.2293023\ttotal: 28.4s\tremaining: 11.1s\n",
      "72:\tlearn: 0.2291755\ttotal: 28.8s\tremaining: 10.7s\n",
      "73:\tlearn: 0.2290869\ttotal: 29.1s\tremaining: 10.2s\n",
      "74:\tlearn: 0.2289562\ttotal: 29.5s\tremaining: 9.82s\n",
      "75:\tlearn: 0.2288175\ttotal: 29.8s\tremaining: 9.39s\n",
      "76:\tlearn: 0.2286386\ttotal: 30.2s\tremaining: 9.02s\n",
      "77:\tlearn: 0.2284996\ttotal: 30.6s\tremaining: 8.62s\n",
      "78:\tlearn: 0.2283291\ttotal: 30.9s\tremaining: 8.22s\n",
      "79:\tlearn: 0.2281796\ttotal: 31.2s\tremaining: 7.81s\n",
      "80:\tlearn: 0.2280589\ttotal: 31.6s\tremaining: 7.4s\n",
      "81:\tlearn: 0.2278737\ttotal: 31.9s\tremaining: 7s\n",
      "82:\tlearn: 0.2276621\ttotal: 32.3s\tremaining: 6.62s\n",
      "83:\tlearn: 0.2274949\ttotal: 32.7s\tremaining: 6.23s\n",
      "84:\tlearn: 0.2273505\ttotal: 33s\tremaining: 5.82s\n",
      "85:\tlearn: 0.2271857\ttotal: 33.3s\tremaining: 5.42s\n",
      "86:\tlearn: 0.2270510\ttotal: 33.6s\tremaining: 5.02s\n",
      "87:\tlearn: 0.2269301\ttotal: 33.9s\tremaining: 4.62s\n",
      "88:\tlearn: 0.2267304\ttotal: 34.3s\tremaining: 4.25s\n",
      "89:\tlearn: 0.2265806\ttotal: 34.7s\tremaining: 3.86s\n",
      "90:\tlearn: 0.2264851\ttotal: 35s\tremaining: 3.46s\n",
      "91:\tlearn: 0.2263767\ttotal: 35.3s\tremaining: 3.07s\n",
      "92:\tlearn: 0.2262349\ttotal: 35.7s\tremaining: 2.68s\n",
      "93:\tlearn: 0.2260822\ttotal: 36s\tremaining: 2.29s\n",
      "94:\tlearn: 0.2259141\ttotal: 36.4s\tremaining: 1.92s\n",
      "95:\tlearn: 0.2257353\ttotal: 36.9s\tremaining: 1.53s\n",
      "96:\tlearn: 0.2255498\ttotal: 37.2s\tremaining: 1.15s\n",
      "97:\tlearn: 0.2253852\ttotal: 37.6s\tremaining: 767ms\n",
      "98:\tlearn: 0.2252421\ttotal: 37.9s\tremaining: 383ms\n",
      "99:\tlearn: 0.2251463\ttotal: 38.2s\tremaining: 0us\n"
     ]
    },
    {
     "data": {
      "text/html": [
       "<style>#sk-container-id-4 {color: black;background-color: white;}#sk-container-id-4 pre{padding: 0;}#sk-container-id-4 div.sk-toggleable {background-color: white;}#sk-container-id-4 label.sk-toggleable__label {cursor: pointer;display: block;width: 100%;margin-bottom: 0;padding: 0.3em;box-sizing: border-box;text-align: center;}#sk-container-id-4 label.sk-toggleable__label-arrow:before {content: \"▸\";float: left;margin-right: 0.25em;color: #696969;}#sk-container-id-4 label.sk-toggleable__label-arrow:hover:before {color: black;}#sk-container-id-4 div.sk-estimator:hover label.sk-toggleable__label-arrow:before {color: black;}#sk-container-id-4 div.sk-toggleable__content {max-height: 0;max-width: 0;overflow: hidden;text-align: left;background-color: #f0f8ff;}#sk-container-id-4 div.sk-toggleable__content pre {margin: 0.2em;color: black;border-radius: 0.25em;background-color: #f0f8ff;}#sk-container-id-4 input.sk-toggleable__control:checked~div.sk-toggleable__content {max-height: 200px;max-width: 100%;overflow: auto;}#sk-container-id-4 input.sk-toggleable__control:checked~label.sk-toggleable__label-arrow:before {content: \"▾\";}#sk-container-id-4 div.sk-estimator input.sk-toggleable__control:checked~label.sk-toggleable__label {background-color: #d4ebff;}#sk-container-id-4 div.sk-label input.sk-toggleable__control:checked~label.sk-toggleable__label {background-color: #d4ebff;}#sk-container-id-4 input.sk-hidden--visually {border: 0;clip: rect(1px 1px 1px 1px);clip: rect(1px, 1px, 1px, 1px);height: 1px;margin: -1px;overflow: hidden;padding: 0;position: absolute;width: 1px;}#sk-container-id-4 div.sk-estimator {font-family: monospace;background-color: #f0f8ff;border: 1px dotted black;border-radius: 0.25em;box-sizing: border-box;margin-bottom: 0.5em;}#sk-container-id-4 div.sk-estimator:hover {background-color: #d4ebff;}#sk-container-id-4 div.sk-parallel-item::after {content: \"\";width: 100%;border-bottom: 1px solid gray;flex-grow: 1;}#sk-container-id-4 div.sk-label:hover label.sk-toggleable__label {background-color: #d4ebff;}#sk-container-id-4 div.sk-serial::before {content: \"\";position: absolute;border-left: 1px solid gray;box-sizing: border-box;top: 0;bottom: 0;left: 50%;z-index: 0;}#sk-container-id-4 div.sk-serial {display: flex;flex-direction: column;align-items: center;background-color: white;padding-right: 0.2em;padding-left: 0.2em;position: relative;}#sk-container-id-4 div.sk-item {position: relative;z-index: 1;}#sk-container-id-4 div.sk-parallel {display: flex;align-items: stretch;justify-content: center;background-color: white;position: relative;}#sk-container-id-4 div.sk-item::before, #sk-container-id-4 div.sk-parallel-item::before {content: \"\";position: absolute;border-left: 1px solid gray;box-sizing: border-box;top: 0;bottom: 0;left: 50%;z-index: -1;}#sk-container-id-4 div.sk-parallel-item {display: flex;flex-direction: column;z-index: 1;position: relative;background-color: white;}#sk-container-id-4 div.sk-parallel-item:first-child::after {align-self: flex-end;width: 50%;}#sk-container-id-4 div.sk-parallel-item:last-child::after {align-self: flex-start;width: 50%;}#sk-container-id-4 div.sk-parallel-item:only-child::after {width: 0;}#sk-container-id-4 div.sk-dashed-wrapped {border: 1px dashed gray;margin: 0 0.4em 0.5em 0.4em;box-sizing: border-box;padding-bottom: 0.4em;background-color: white;}#sk-container-id-4 div.sk-label label {font-family: monospace;font-weight: bold;display: inline-block;line-height: 1.2em;}#sk-container-id-4 div.sk-label-container {text-align: center;}#sk-container-id-4 div.sk-container {/* jupyter's `normalize.less` sets `[hidden] { display: none; }` but bootstrap.min.css set `[hidden] { display: none !important; }` so we also need the `!important` here to be able to override the default hidden behavior on the sphinx rendered scikit-learn.org. See: https://github.com/scikit-learn/scikit-learn/issues/21755 */display: inline-block !important;position: relative;}#sk-container-id-4 div.sk-text-repr-fallback {display: none;}</style><div id=\"sk-container-id-4\" class=\"sk-top-container\"><div class=\"sk-text-repr-fallback\"><pre>GridSearchCV(cv=5,\n",
       "             estimator=Pipeline(steps=[(&#x27;imputer&#x27;, SimpleImputer()),\n",
       "                                       (&#x27;smote&#x27;, SMOTE()),\n",
       "                                       (&#x27;model&#x27;,\n",
       "                                        &lt;catboost.core.CatBoostClassifier object at 0x000001C23870B9A0&gt;)]),\n",
       "             n_jobs=-1,\n",
       "             param_grid={&#x27;imputer__strategy&#x27;: [&#x27;mean&#x27;],\n",
       "                         &#x27;model__n_estimators&#x27;: [100],\n",
       "                         &#x27;smote__sampling_strategy&#x27;: [0.1]},\n",
       "             refit=&#x27;score_fbeta&#x27;,\n",
       "             scoring={&#x27;score_accuracy&#x27;: &#x27;accuracy&#x27;,\n",
       "                      &#x27;score_fbeta&#x27;: make_scorer(fbeta_score, greater_is_better=False, beta=0.5),\n",
       "                      &#x27;score_roc_auc&#x27;: &#x27;roc_auc&#x27;})</pre><b>In a Jupyter environment, please rerun this cell to show the HTML representation or trust the notebook. <br />On GitHub, the HTML representation is unable to render, please try loading this page with nbviewer.org.</b></div><div class=\"sk-container\" hidden><div class=\"sk-item sk-dashed-wrapped\"><div class=\"sk-label-container\"><div class=\"sk-label sk-toggleable\"><input class=\"sk-toggleable__control sk-hidden--visually\" id=\"sk-estimator-id-12\" type=\"checkbox\" ><label for=\"sk-estimator-id-12\" class=\"sk-toggleable__label sk-toggleable__label-arrow\">GridSearchCV</label><div class=\"sk-toggleable__content\"><pre>GridSearchCV(cv=5,\n",
       "             estimator=Pipeline(steps=[(&#x27;imputer&#x27;, SimpleImputer()),\n",
       "                                       (&#x27;smote&#x27;, SMOTE()),\n",
       "                                       (&#x27;model&#x27;,\n",
       "                                        &lt;catboost.core.CatBoostClassifier object at 0x000001C23870B9A0&gt;)]),\n",
       "             n_jobs=-1,\n",
       "             param_grid={&#x27;imputer__strategy&#x27;: [&#x27;mean&#x27;],\n",
       "                         &#x27;model__n_estimators&#x27;: [100],\n",
       "                         &#x27;smote__sampling_strategy&#x27;: [0.1]},\n",
       "             refit=&#x27;score_fbeta&#x27;,\n",
       "             scoring={&#x27;score_accuracy&#x27;: &#x27;accuracy&#x27;,\n",
       "                      &#x27;score_fbeta&#x27;: make_scorer(fbeta_score, greater_is_better=False, beta=0.5),\n",
       "                      &#x27;score_roc_auc&#x27;: &#x27;roc_auc&#x27;})</pre></div></div></div><div class=\"sk-parallel\"><div class=\"sk-parallel-item\"><div class=\"sk-item\"><div class=\"sk-label-container\"><div class=\"sk-label sk-toggleable\"><input class=\"sk-toggleable__control sk-hidden--visually\" id=\"sk-estimator-id-13\" type=\"checkbox\" ><label for=\"sk-estimator-id-13\" class=\"sk-toggleable__label sk-toggleable__label-arrow\">estimator: Pipeline</label><div class=\"sk-toggleable__content\"><pre>Pipeline(steps=[(&#x27;imputer&#x27;, SimpleImputer()), (&#x27;smote&#x27;, SMOTE()),\n",
       "                (&#x27;model&#x27;,\n",
       "                 &lt;catboost.core.CatBoostClassifier object at 0x000001C23870B9A0&gt;)])</pre></div></div></div><div class=\"sk-serial\"><div class=\"sk-item\"><div class=\"sk-serial\"><div class=\"sk-item\"><div class=\"sk-estimator sk-toggleable\"><input class=\"sk-toggleable__control sk-hidden--visually\" id=\"sk-estimator-id-14\" type=\"checkbox\" ><label for=\"sk-estimator-id-14\" class=\"sk-toggleable__label sk-toggleable__label-arrow\">SimpleImputer</label><div class=\"sk-toggleable__content\"><pre>SimpleImputer()</pre></div></div></div><div class=\"sk-item\"><div class=\"sk-estimator sk-toggleable\"><input class=\"sk-toggleable__control sk-hidden--visually\" id=\"sk-estimator-id-15\" type=\"checkbox\" ><label for=\"sk-estimator-id-15\" class=\"sk-toggleable__label sk-toggleable__label-arrow\">SMOTE</label><div class=\"sk-toggleable__content\"><pre>SMOTE()</pre></div></div></div><div class=\"sk-item\"><div class=\"sk-estimator sk-toggleable\"><input class=\"sk-toggleable__control sk-hidden--visually\" id=\"sk-estimator-id-16\" type=\"checkbox\" ><label for=\"sk-estimator-id-16\" class=\"sk-toggleable__label sk-toggleable__label-arrow\">CatBoostClassifier</label><div class=\"sk-toggleable__content\"><pre>&lt;catboost.core.CatBoostClassifier object at 0x000001C23870B9A0&gt;</pre></div></div></div></div></div></div></div></div></div></div></div></div>"
      ],
      "text/plain": [
       "GridSearchCV(cv=5,\n",
       "             estimator=Pipeline(steps=[('imputer', SimpleImputer()),\n",
       "                                       ('smote', SMOTE()),\n",
       "                                       ('model',\n",
       "                                        <catboost.core.CatBoostClassifier object at 0x000001C23870B9A0>)]),\n",
       "             n_jobs=-1,\n",
       "             param_grid={'imputer__strategy': ['mean'],\n",
       "                         'model__n_estimators': [100],\n",
       "                         'smote__sampling_strategy': [0.1]},\n",
       "             refit='score_fbeta',\n",
       "             scoring={'score_accuracy': 'accuracy',\n",
       "                      'score_fbeta': make_scorer(fbeta_score, greater_is_better=False, beta=0.5),\n",
       "                      'score_roc_auc': 'roc_auc'})"
      ]
     },
     "execution_count": 72,
     "metadata": {},
     "output_type": "execute_result"
    }
   ],
   "source": [
    "pipe = Pipeline([\n",
    "    ('imputer', SimpleImputer()),\n",
    "    ('smote', SMOTE()),\n",
    "    ('model', CatBoostClassifier()),\n",
    "])\n",
    "\n",
    "grid = {\n",
    "    'imputer__strategy': [\"mean\"],\n",
    "    'smote__sampling_strategy': [0.1],\n",
    "    'model__n_estimators': [100]\n",
    "}\n",
    "\n",
    "scorers = {\n",
    "    'score_accuracy': 'accuracy',\n",
    "    'score_roc_auc': 'roc_auc',\n",
    "    'score_fbeta': make_scorer(fbeta_score, beta=0.5, greater_is_better=False)\n",
    "}\n",
    "\n",
    "search = GridSearchCV(pipe, grid, scoring=scorers, refit='score_fbeta', cv=5, n_jobs=-1)\n",
    "search.fit(X, y)"
   ]
  },
  {
   "cell_type": "code",
   "execution_count": 73,
   "metadata": {},
   "outputs": [
    {
     "name": "stderr",
     "output_type": "stream",
     "text": [
      "2023/01/20 19:12:20 INFO mlflow.tracking.fluent: Experiment with name '<catboost.core.CatBoostClassifier object at 0x000001C23870B9A0>_Fri-Jan-20-19:12:18-2023' does not exist. Creating a new experiment.\n"
     ]
    },
    {
     "name": "stdout",
     "output_type": "stream",
     "text": [
      "Run is logged\n"
     ]
    }
   ],
   "source": [
    "# MLflow\n",
    "log_model(search)"
   ]
  },
  {
   "cell_type": "markdown",
   "metadata": {},
   "source": [
    "## RandomForest"
   ]
  },
  {
   "cell_type": "code",
   "execution_count": 76,
   "metadata": {},
   "outputs": [
    {
     "data": {
      "text/html": [
       "<style>#sk-container-id-5 {color: black;background-color: white;}#sk-container-id-5 pre{padding: 0;}#sk-container-id-5 div.sk-toggleable {background-color: white;}#sk-container-id-5 label.sk-toggleable__label {cursor: pointer;display: block;width: 100%;margin-bottom: 0;padding: 0.3em;box-sizing: border-box;text-align: center;}#sk-container-id-5 label.sk-toggleable__label-arrow:before {content: \"▸\";float: left;margin-right: 0.25em;color: #696969;}#sk-container-id-5 label.sk-toggleable__label-arrow:hover:before {color: black;}#sk-container-id-5 div.sk-estimator:hover label.sk-toggleable__label-arrow:before {color: black;}#sk-container-id-5 div.sk-toggleable__content {max-height: 0;max-width: 0;overflow: hidden;text-align: left;background-color: #f0f8ff;}#sk-container-id-5 div.sk-toggleable__content pre {margin: 0.2em;color: black;border-radius: 0.25em;background-color: #f0f8ff;}#sk-container-id-5 input.sk-toggleable__control:checked~div.sk-toggleable__content {max-height: 200px;max-width: 100%;overflow: auto;}#sk-container-id-5 input.sk-toggleable__control:checked~label.sk-toggleable__label-arrow:before {content: \"▾\";}#sk-container-id-5 div.sk-estimator input.sk-toggleable__control:checked~label.sk-toggleable__label {background-color: #d4ebff;}#sk-container-id-5 div.sk-label input.sk-toggleable__control:checked~label.sk-toggleable__label {background-color: #d4ebff;}#sk-container-id-5 input.sk-hidden--visually {border: 0;clip: rect(1px 1px 1px 1px);clip: rect(1px, 1px, 1px, 1px);height: 1px;margin: -1px;overflow: hidden;padding: 0;position: absolute;width: 1px;}#sk-container-id-5 div.sk-estimator {font-family: monospace;background-color: #f0f8ff;border: 1px dotted black;border-radius: 0.25em;box-sizing: border-box;margin-bottom: 0.5em;}#sk-container-id-5 div.sk-estimator:hover {background-color: #d4ebff;}#sk-container-id-5 div.sk-parallel-item::after {content: \"\";width: 100%;border-bottom: 1px solid gray;flex-grow: 1;}#sk-container-id-5 div.sk-label:hover label.sk-toggleable__label {background-color: #d4ebff;}#sk-container-id-5 div.sk-serial::before {content: \"\";position: absolute;border-left: 1px solid gray;box-sizing: border-box;top: 0;bottom: 0;left: 50%;z-index: 0;}#sk-container-id-5 div.sk-serial {display: flex;flex-direction: column;align-items: center;background-color: white;padding-right: 0.2em;padding-left: 0.2em;position: relative;}#sk-container-id-5 div.sk-item {position: relative;z-index: 1;}#sk-container-id-5 div.sk-parallel {display: flex;align-items: stretch;justify-content: center;background-color: white;position: relative;}#sk-container-id-5 div.sk-item::before, #sk-container-id-5 div.sk-parallel-item::before {content: \"\";position: absolute;border-left: 1px solid gray;box-sizing: border-box;top: 0;bottom: 0;left: 50%;z-index: -1;}#sk-container-id-5 div.sk-parallel-item {display: flex;flex-direction: column;z-index: 1;position: relative;background-color: white;}#sk-container-id-5 div.sk-parallel-item:first-child::after {align-self: flex-end;width: 50%;}#sk-container-id-5 div.sk-parallel-item:last-child::after {align-self: flex-start;width: 50%;}#sk-container-id-5 div.sk-parallel-item:only-child::after {width: 0;}#sk-container-id-5 div.sk-dashed-wrapped {border: 1px dashed gray;margin: 0 0.4em 0.5em 0.4em;box-sizing: border-box;padding-bottom: 0.4em;background-color: white;}#sk-container-id-5 div.sk-label label {font-family: monospace;font-weight: bold;display: inline-block;line-height: 1.2em;}#sk-container-id-5 div.sk-label-container {text-align: center;}#sk-container-id-5 div.sk-container {/* jupyter's `normalize.less` sets `[hidden] { display: none; }` but bootstrap.min.css set `[hidden] { display: none !important; }` so we also need the `!important` here to be able to override the default hidden behavior on the sphinx rendered scikit-learn.org. See: https://github.com/scikit-learn/scikit-learn/issues/21755 */display: inline-block !important;position: relative;}#sk-container-id-5 div.sk-text-repr-fallback {display: none;}</style><div id=\"sk-container-id-5\" class=\"sk-top-container\"><div class=\"sk-text-repr-fallback\"><pre>GridSearchCV(cv=5,\n",
       "             estimator=Pipeline(steps=[(&#x27;imputer&#x27;, SimpleImputer()),\n",
       "                                       (&#x27;smote&#x27;, SMOTE()),\n",
       "                                       (&#x27;model&#x27;, RandomForestClassifier())]),\n",
       "             n_jobs=-1,\n",
       "             param_grid={&#x27;imputer__strategy&#x27;: [&#x27;mean&#x27;],\n",
       "                         &#x27;model__n_estimators&#x27;: [100],\n",
       "                         &#x27;smote__sampling_strategy&#x27;: [0.1]},\n",
       "             refit=&#x27;score_fbeta&#x27;,\n",
       "             scoring={&#x27;score_accuracy&#x27;: &#x27;accuracy&#x27;,\n",
       "                      &#x27;score_fbeta&#x27;: make_scorer(fbeta_score, greater_is_better=False, beta=0.5),\n",
       "                      &#x27;score_roc_auc&#x27;: &#x27;roc_auc&#x27;})</pre><b>In a Jupyter environment, please rerun this cell to show the HTML representation or trust the notebook. <br />On GitHub, the HTML representation is unable to render, please try loading this page with nbviewer.org.</b></div><div class=\"sk-container\" hidden><div class=\"sk-item sk-dashed-wrapped\"><div class=\"sk-label-container\"><div class=\"sk-label sk-toggleable\"><input class=\"sk-toggleable__control sk-hidden--visually\" id=\"sk-estimator-id-17\" type=\"checkbox\" ><label for=\"sk-estimator-id-17\" class=\"sk-toggleable__label sk-toggleable__label-arrow\">GridSearchCV</label><div class=\"sk-toggleable__content\"><pre>GridSearchCV(cv=5,\n",
       "             estimator=Pipeline(steps=[(&#x27;imputer&#x27;, SimpleImputer()),\n",
       "                                       (&#x27;smote&#x27;, SMOTE()),\n",
       "                                       (&#x27;model&#x27;, RandomForestClassifier())]),\n",
       "             n_jobs=-1,\n",
       "             param_grid={&#x27;imputer__strategy&#x27;: [&#x27;mean&#x27;],\n",
       "                         &#x27;model__n_estimators&#x27;: [100],\n",
       "                         &#x27;smote__sampling_strategy&#x27;: [0.1]},\n",
       "             refit=&#x27;score_fbeta&#x27;,\n",
       "             scoring={&#x27;score_accuracy&#x27;: &#x27;accuracy&#x27;,\n",
       "                      &#x27;score_fbeta&#x27;: make_scorer(fbeta_score, greater_is_better=False, beta=0.5),\n",
       "                      &#x27;score_roc_auc&#x27;: &#x27;roc_auc&#x27;})</pre></div></div></div><div class=\"sk-parallel\"><div class=\"sk-parallel-item\"><div class=\"sk-item\"><div class=\"sk-label-container\"><div class=\"sk-label sk-toggleable\"><input class=\"sk-toggleable__control sk-hidden--visually\" id=\"sk-estimator-id-18\" type=\"checkbox\" ><label for=\"sk-estimator-id-18\" class=\"sk-toggleable__label sk-toggleable__label-arrow\">estimator: Pipeline</label><div class=\"sk-toggleable__content\"><pre>Pipeline(steps=[(&#x27;imputer&#x27;, SimpleImputer()), (&#x27;smote&#x27;, SMOTE()),\n",
       "                (&#x27;model&#x27;, RandomForestClassifier())])</pre></div></div></div><div class=\"sk-serial\"><div class=\"sk-item\"><div class=\"sk-serial\"><div class=\"sk-item\"><div class=\"sk-estimator sk-toggleable\"><input class=\"sk-toggleable__control sk-hidden--visually\" id=\"sk-estimator-id-19\" type=\"checkbox\" ><label for=\"sk-estimator-id-19\" class=\"sk-toggleable__label sk-toggleable__label-arrow\">SimpleImputer</label><div class=\"sk-toggleable__content\"><pre>SimpleImputer()</pre></div></div></div><div class=\"sk-item\"><div class=\"sk-estimator sk-toggleable\"><input class=\"sk-toggleable__control sk-hidden--visually\" id=\"sk-estimator-id-20\" type=\"checkbox\" ><label for=\"sk-estimator-id-20\" class=\"sk-toggleable__label sk-toggleable__label-arrow\">SMOTE</label><div class=\"sk-toggleable__content\"><pre>SMOTE()</pre></div></div></div><div class=\"sk-item\"><div class=\"sk-estimator sk-toggleable\"><input class=\"sk-toggleable__control sk-hidden--visually\" id=\"sk-estimator-id-21\" type=\"checkbox\" ><label for=\"sk-estimator-id-21\" class=\"sk-toggleable__label sk-toggleable__label-arrow\">RandomForestClassifier</label><div class=\"sk-toggleable__content\"><pre>RandomForestClassifier()</pre></div></div></div></div></div></div></div></div></div></div></div></div>"
      ],
      "text/plain": [
       "GridSearchCV(cv=5,\n",
       "             estimator=Pipeline(steps=[('imputer', SimpleImputer()),\n",
       "                                       ('smote', SMOTE()),\n",
       "                                       ('model', RandomForestClassifier())]),\n",
       "             n_jobs=-1,\n",
       "             param_grid={'imputer__strategy': ['mean'],\n",
       "                         'model__n_estimators': [100],\n",
       "                         'smote__sampling_strategy': [0.1]},\n",
       "             refit='score_fbeta',\n",
       "             scoring={'score_accuracy': 'accuracy',\n",
       "                      'score_fbeta': make_scorer(fbeta_score, greater_is_better=False, beta=0.5),\n",
       "                      'score_roc_auc': 'roc_auc'})"
      ]
     },
     "execution_count": 76,
     "metadata": {},
     "output_type": "execute_result"
    }
   ],
   "source": [
    "pipe = Pipeline([\n",
    "    ('imputer', SimpleImputer()),\n",
    "    ('smote', SMOTE()),\n",
    "    ('model', RandomForestClassifier()),\n",
    "])\n",
    "\n",
    "grid = {\n",
    "    'imputer__strategy': [\"mean\"],\n",
    "    'smote__sampling_strategy': [0.1],\n",
    "    'model__n_estimators': [100]\n",
    "}\n",
    "\n",
    "scorers = {\n",
    "    'score_accuracy': 'accuracy',\n",
    "    'score_roc_auc': 'roc_auc',\n",
    "    'score_fbeta': make_scorer(fbeta_score, beta=0.5, greater_is_better=False)\n",
    "}\n",
    "\n",
    "search = GridSearchCV(pipe, grid, scoring=scorers, refit='score_fbeta', cv=5, n_jobs=-1)\n",
    "search.fit(X, y)"
   ]
  },
  {
   "cell_type": "code",
   "execution_count": 77,
   "metadata": {},
   "outputs": [
    {
     "name": "stderr",
     "output_type": "stream",
     "text": [
      "2023/01/20 19:40:33 INFO mlflow.tracking.fluent: Experiment with name 'RandomForestClassifier()_Fri-Jan-20-19:40:31-2023' does not exist. Creating a new experiment.\n"
     ]
    },
    {
     "name": "stdout",
     "output_type": "stream",
     "text": [
      "Run is logged\n"
     ]
    }
   ],
   "source": [
    "# MLflow\n",
    "log_model(search)"
   ]
  }
 ],
 "metadata": {
  "kernelspec": {
   "display_name": "OC-P7-5dK-jRoi",
   "language": "python",
   "name": "python3"
  },
  "language_info": {
   "codemirror_mode": {
    "name": "ipython",
    "version": 3
   },
   "file_extension": ".py",
   "mimetype": "text/x-python",
   "name": "python",
   "nbconvert_exporter": "python",
   "pygments_lexer": "ipython3",
   "version": "3.8.0"
  },
  "orig_nbformat": 4,
  "vscode": {
   "interpreter": {
    "hash": "c4879f92dbbcbb83c2ae64027463d13cbf7e312fe8d0c8627093113a1ea8dc82"
   }
  }
 },
 "nbformat": 4,
 "nbformat_minor": 2
}
